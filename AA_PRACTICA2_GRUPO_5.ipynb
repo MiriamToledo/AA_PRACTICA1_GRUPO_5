{
  "nbformat": 4,
  "nbformat_minor": 0,
  "metadata": {
    "colab": {
      "name": "AA_PRACTICA2_GRUPO_5.ipynb",
      "provenance": [],
      "collapsed_sections": [],
      "include_colab_link": true
    },
    "kernelspec": {
      "name": "python3",
      "display_name": "Python 3"
    },
    "language_info": {
      "name": "python"
    },
    "accelerator": "GPU"
  },
  "cells": [
    {
      "cell_type": "markdown",
      "metadata": {
        "id": "view-in-github",
        "colab_type": "text"
      },
      "source": [
        "<a href=\"https://colab.research.google.com/github/MiriamToledo/AA_PRACTICA1_GRUPO_5/blob/main/AA_PRACTICA2_GRUPO_5.ipynb\" target=\"_parent\"><img src=\"https://colab.research.google.com/assets/colab-badge.svg\" alt=\"Open In Colab\"/></a>"
      ]
    },
    {
      "cell_type": "markdown",
      "metadata": {
        "id": "a837AMFBUNjU"
      },
      "source": [
        "# Práctica 2: Redes de Neuronas Convolucionales\n",
        "\n",
        "### Grupo 5\n",
        "### Miriam Toledo\n",
        "### Inés Sánchez\n",
        "A continuación, vamos a crear un modelo de red de neuronas convolucionales artificiales que sea capaz de reconocer y clasificar imágenes de ropa en sus diferentes tipologías. Para ello vamos emplear Keras, específicamente el conjunto de datos Fashion-MNIST.\n",
        "## 1- IMPORTAMOS TODAS LAS LIBRERÍAS NECESARIAS \n",
        "También nos aseguramos de ejecutar la versión 2.0.0 de TensorFlow.\n"
      ]
    },
    {
      "cell_type": "code",
      "metadata": {
        "colab": {
          "base_uri": "https://localhost:8080/"
        },
        "id": "r_FEGN7-Ek9i",
        "outputId": "804c0cd7-913d-425f-df4f-490ad3fd09ff"
      },
      "source": [
        "%tensorflow_version 2.x\n",
        "import tensorflow as tf\n",
        "import matplotlib.pyplot as plt\n",
        "from tensorflow import keras\n",
        "print(tf.keras.__version__)\n",
        "print(\"GPU Available:\", tf.config.list_physical_devices('GPU'))\n",
        "print(tf.__version__)\n",
        "from tensorflow.keras import Sequential\n",
        "from tensorflow.keras.layers import Conv2D\n",
        "from tensorflow.keras.layers import MaxPooling2D\n",
        "from keras.utils.np_utils import to_categorical\n",
        "from tensorflow.keras.layers import Dense\n",
        "from tensorflow.keras.layers import Flatten\n",
        "from keras import layers\n",
        "import numpy as np"
      ],
      "execution_count": 1,
      "outputs": [
        {
          "output_type": "stream",
          "name": "stdout",
          "text": [
            "2.7.0\n",
            "GPU Available: [PhysicalDevice(name='/physical_device:GPU:0', device_type='GPU')]\n",
            "2.7.0\n"
          ]
        }
      ]
    },
    {
      "cell_type": "markdown",
      "metadata": {
        "id": "x12boNRmVlba"
      },
      "source": [
        "## 2- CARGAMOS EL CONJUNTO DE DATOS Y ANALIZAMOS QUE TENGAN LA FORMA ESPERADA"
      ]
    },
    {
      "cell_type": "code",
      "metadata": {
        "id": "jxXWXVXvE0k5",
        "colab": {
          "base_uri": "https://localhost:8080/"
        },
        "outputId": "a0516f5e-3335-40af-9652-a14fc159f687"
      },
      "source": [
        "from keras.datasets import fashion_mnist\n",
        "(train_images, train_labels), (test_images, test_labels) = fashion_mnist.load_data()"
      ],
      "execution_count": 2,
      "outputs": [
        {
          "output_type": "stream",
          "name": "stdout",
          "text": [
            "Downloading data from https://storage.googleapis.com/tensorflow/tf-keras-datasets/train-labels-idx1-ubyte.gz\n",
            "32768/29515 [=================================] - 0s 0us/step\n",
            "40960/29515 [=========================================] - 0s 0us/step\n",
            "Downloading data from https://storage.googleapis.com/tensorflow/tf-keras-datasets/train-images-idx3-ubyte.gz\n",
            "26427392/26421880 [==============================] - 0s 0us/step\n",
            "26435584/26421880 [==============================] - 0s 0us/step\n",
            "Downloading data from https://storage.googleapis.com/tensorflow/tf-keras-datasets/t10k-labels-idx1-ubyte.gz\n",
            "16384/5148 [===============================================================================================] - 0s 0us/step\n",
            "Downloading data from https://storage.googleapis.com/tensorflow/tf-keras-datasets/t10k-images-idx3-ubyte.gz\n",
            "4423680/4422102 [==============================] - 0s 0us/step\n",
            "4431872/4422102 [==============================] - 0s 0us/step\n"
          ]
        }
      ]
    },
    {
      "cell_type": "code",
      "metadata": {
        "colab": {
          "base_uri": "https://localhost:8080/"
        },
        "id": "_NTXo7Y6FR6j",
        "outputId": "4a95aeda-92d1-4b09-8c56-5dbc55b93691"
      },
      "source": [
        "print(train_images.shape)\n",
        "print(len(train_labels))\n",
        "# Vemos la matriz de la imagen número 1500\n",
        "print(train_images[1500])\n",
        "num = train_labels[1500]\n",
        "print(num)"
      ],
      "execution_count": 3,
      "outputs": [
        {
          "output_type": "stream",
          "name": "stdout",
          "text": [
            "(60000, 28, 28)\n",
            "60000\n",
            "[[  0   0   0   0   0   0   0   0   0  59 144 141 146 149 163 150  58  70\n",
            "   92   0   0   0   0   0   0   0   0   0]\n",
            " [  0   0   0   0   0   0   0   0   0  87 139 165 176 176 177 204 133 114\n",
            "  129   8   0   0   0   0   0   0   0   0]\n",
            " [  0   0   0   0   0   0   0   0   0 136 194 161 158 195 130 182 158 198\n",
            "  184  87   0   0   0   0   0   0   0   0]\n",
            " [  0   0   0   0   0   0   0   0   0 178 183 160 148 164 110 165 154 157\n",
            "  163  65   0   0   0   0   0   0   0   0]\n",
            " [  0   0   0   0   0   0   0   0   0 185 137 139 164 162 159 176 162 147\n",
            "  150  62   0   0   0   0   0   0   0   0]\n",
            " [  0   0   0   0   0   0   0   0  17 198 157 168 165 202 218 171 166 156\n",
            "  164  71   0   0   0   0   0   0   0   0]\n",
            " [  0   0   0   0   0   0   0   0  59 181 116 151 155 214 193 202 159 123\n",
            "  147  58   0   0   0   0   0   0   0   0]\n",
            " [  0   0   0   0   0   0   0   0  72 158 105 136 161 138 181 230 146 119\n",
            "  134  50   0   0   0   0   0   0   0   0]\n",
            " [  0   0   0   0   0   0   0   0  85 144 112 131 187  80 121 251 139 115\n",
            "  110  46   0   0   0   0   0   0   0   0]\n",
            " [  0   0   0   0   0   0   0   0  95 129 113 128 200   8  32 255 158 101\n",
            "  115  45   0   0   0   0   0   0   0   0]\n",
            " [  0   0   0   0   0   0   0   0  97 124 108 149 171   0   0 250 160  90\n",
            "  132  39   0   0   0   0   0   0   0   0]\n",
            " [  0   0   0   0   0   0   0   0 102 119 104 172  92   0   0 227 159  90\n",
            "  140  29   0   0   0   0   0   0   0   0]\n",
            " [  0   0   0   0   0   0   0   0  99 112 108 178  24   0   0 222 157  83\n",
            "  134  15   0   0   0   0   0   0   0   0]\n",
            " [  0   0   0   0   0   0   0   0  96 100 117 173   4   0   0 215 147  77\n",
            "  125   4   0   0   0   0   0   0   0   0]\n",
            " [  0   0   0   0   0   0   0   0  91 103 123 177   0   0   0 194 157  65\n",
            "  115   2   0   0   0   0   0   0   0   0]\n",
            " [  0   0   0   0   0   0   0   0  82 104 124 181   1   0   0 170 168  72\n",
            "  128   2   0   0   0   0   0   0   0   0]\n",
            " [  0   0   0   0   0   0   0   0  58 120 138 171  22   0   0 157 141  82\n",
            "  156   1   0   0   0   0   0   0   0   0]\n",
            " [  0   0   0   0   0   0   0   0  29 114 147 163  48   0   0 149 159  79\n",
            "  131   0   0   0   0   0   0   0   0   0]\n",
            " [  0   0   0   0   0   0   0   0   3 130 131 182 130   0   0 123 196 103\n",
            "  126   0   0   0   0   0   0   0   0   0]\n",
            " [  0   0   0   0   0   0   0   0   0 132 141 167 188   0   0 117 213 123\n",
            "  124   0   0   0   0   0   0   0   0   0]\n",
            " [  0   0   0   0   0   0   0   0   0 111 177 162 213  19   0 108 221 157\n",
            "  130   0   0   0   0   0   0   0   0   0]\n",
            " [  0   0   0   0   0   0   0   0   0  57 196 165 211  51   0 107 223 184\n",
            "  137   0   0   0   0   0   0   0   0   0]\n",
            " [  0   0   0   0   0   0   0   0   0   7 191 173 186  86   0 104 218 199\n",
            "  143   0   0   0   0   0   0   0   0   0]\n",
            " [  0   0   0   0   0   0   0   0   0   0 205 187 183 145   0 104 208 197\n",
            "  152   0   0   0   0   0   0   0   0   0]\n",
            " [  0   0   0   0   0   0   0   0   0   0 139 199 181 177   0 105 211 199\n",
            "  197   0   0   0   0   0   0   0   0   0]\n",
            " [  0   0   0   0   0   0   0   0   3   0  70 204 174 207   0  75 201 192\n",
            "  170   0   0   0   0   0   0   0   0   0]\n",
            " [  0   0   0   0   0   0   0   0   1   0  16 218 202 250   0  76 215 205\n",
            "  195   0   0   0   0   0   0   0   0   0]\n",
            " [  0   0   0   0   0   0   0   0   2   0   0 129 125 141   0  25 144 116\n",
            "   95   0   0   0   0   0   0   0   0   0]]\n",
            "1\n"
          ]
        }
      ]
    },
    {
      "cell_type": "markdown",
      "metadata": {
        "id": "kT5iLjYXGzWU"
      },
      "source": [
        "La clasificación corresponde con:\n",
        "\n",
        "\n",
        "0.   Camiseta /Top\n",
        "1. Pantalón\n",
        "2. Jersey\n",
        "3. Vestido\n",
        "4. Abrigo\n",
        "5. Sandalia\n",
        "6. Camisa\n",
        "7. Zapatillas\n",
        "8. Bolsa\n",
        "9. Botas tobilleras\n",
        "\n",
        "Cada imagen tiene una única etiqueta. Cremaos class_names para poder usarlos a la hora de visualizar las imágnes. Y comprobamos que efectivamente la etiqueta 1 corresponde con un pantalón. \n",
        "\n",
        "\n"
      ]
    },
    {
      "cell_type": "code",
      "metadata": {
        "colab": {
          "base_uri": "https://localhost:8080/",
          "height": 265
        },
        "id": "THmVELUlFksd",
        "outputId": "f02cb803-787a-4875-aebd-d4f171295530"
      },
      "source": [
        "class_names = ['Camiseta', 'Pantalón', 'Jersey', 'Vestido', 'Abrigo', 'Sandalias', 'Camisa', 'Zapatillas', 'Bolsa', 'Botas tobilleras']\n",
        "digit = train_images[1500]\n",
        "plt.imshow(digit, cmap=plt.cm.binary)\n",
        "plt.show()"
      ],
      "execution_count": 4,
      "outputs": [
        {
          "output_type": "display_data",
          "data": {
            "image/png": "[encoded data removed]",
            "text/plain": [
              "<Figure size 432x288 with 1 Axes>"
            ]
          },
          "metadata": {
            "needs_background": "light"
          }
        }
      ]
    },
    {
      "cell_type": "markdown",
      "metadata": {
        "id": "fzzEIV2RYQao"
      },
      "source": [
        "Comprobamos la forma de los datos de prueba y tienen la misma forma que los datos de entrenamiento."
      ]
    },
    {
      "cell_type": "code",
      "metadata": {
        "colab": {
          "base_uri": "https://localhost:8080/"
        },
        "id": "yrQMn9bAYV0R",
        "outputId": "5be49956-1be6-4a36-e896-5665d1687dbf"
      },
      "source": [
        "print(test_images.shape)\n",
        "print(len(test_labels))\n"
      ],
      "execution_count": 5,
      "outputs": [
        {
          "output_type": "stream",
          "name": "stdout",
          "text": [
            "(10000, 28, 28)\n",
            "10000\n"
          ]
        }
      ]
    },
    {
      "cell_type": "markdown",
      "metadata": {
        "id": "J4Rn0hKc12UO"
      },
      "source": [
        "\n",
        "A continuación configuramos los datos normalizándolos, convirtiendo los tensores 2D a tensores 3D utilizando reshape. "
      ]
    },
    {
      "cell_type": "code",
      "metadata": {
        "colab": {
          "base_uri": "https://localhost:8080/"
        },
        "id": "xg8sBM2O1Nge",
        "outputId": "e6a25d3d-f326-4797-e773-e4de54a1d781"
      },
      "source": [
        "fashion_mnist = tf.keras.datasets.fashion_mnist\n",
        "(train_images, train_labels), (test_images, test_labels) = fashion_mnist.load_data()\n",
        "\n",
        "print (train_images.shape)\n",
        "print (train_labels.shape)\n",
        "train_images = train_images.reshape((60000, 28, 28, 1))\n",
        "train_images = train_images.astype('float32') / 255\n",
        "\n",
        "test_images = test_images.reshape((10000, 28, 28, 1))\n",
        "test_images = test_images.astype('float32') / 255\n",
        "\n",
        "print (train_images.shape)\n",
        "print (train_labels.shape)"
      ],
      "execution_count": 6,
      "outputs": [
        {
          "output_type": "stream",
          "name": "stdout",
          "text": [
            "(60000, 28, 28)\n",
            "(60000,)\n",
            "(60000, 28, 28, 1)\n",
            "(60000,)\n"
          ]
        }
      ]
    },
    {
      "cell_type": "markdown",
      "metadata": {
        "id": "608encdKYhW1"
      },
      "source": [
        "## 3- CONSTRUCCIÓN DE LA RNA\n",
        "### 3.1 - Caso 1\n",
        "Esta red neuronal tiene 32 filtros en la primera capa convolucional y 64 en la segunda, la función de activación de las dos primeras capas convolucionales es *relu* y de la última capa densa es *softmax*. El optimizador es *sgd*, la función de perdida es *sparse_categorical_crossentropy*, la métrica es *accuracy* y el número de iteraciones es 5."
      ]
    },
    {
      "cell_type": "code",
      "metadata": {
        "colab": {
          "base_uri": "https://localhost:8080/"
        },
        "id": "xyJ-1UwZwmNB",
        "outputId": "5657b641-16eb-40e5-9968-68b412c3b816"
      },
      "source": [
        "red1 = Sequential()\n",
        "red1.add(Conv2D(32, (5, 5), activation='relu', input_shape=(28, 28, 1)))\n",
        "red1.add(MaxPooling2D((2, 2)))\n",
        "red1.add(Conv2D(64, (5, 5), activation='relu'))\n",
        "red1.add(MaxPooling2D((2, 2)))\n",
        "red1.add(Flatten())\n",
        "red1.add(Dense(10, activation='softmax'))\n",
        "red1.summary()"
      ],
      "execution_count": 7,
      "outputs": [
        {
          "output_type": "stream",
          "name": "stdout",
          "text": [
            "Model: \"sequential\"\n",
            "_________________________________________________________________\n",
            " Layer (type)                Output Shape              Param #   \n",
            "=================================================================\n",
            " conv2d (Conv2D)             (None, 24, 24, 32)        832       \n",
            "                                                                 \n",
            " max_pooling2d (MaxPooling2D  (None, 12, 12, 32)       0         \n",
            " )                                                               \n",
            "                                                                 \n",
            " conv2d_1 (Conv2D)           (None, 8, 8, 64)          51264     \n",
            "                                                                 \n",
            " max_pooling2d_1 (MaxPooling  (None, 4, 4, 64)         0         \n",
            " 2D)                                                             \n",
            "                                                                 \n",
            " flatten (Flatten)           (None, 1024)              0         \n",
            "                                                                 \n",
            " dense (Dense)               (None, 10)                10250     \n",
            "                                                                 \n",
            "=================================================================\n",
            "Total params: 62,346\n",
            "Trainable params: 62,346\n",
            "Non-trainable params: 0\n",
            "_________________________________________________________________\n"
          ]
        }
      ]
    },
    {
      "cell_type": "markdown",
      "metadata": {
        "id": "Ks8HYpZObBHm"
      },
      "source": [
        "La función red1.summary() nos indica:\n",
        "\n",
        "\n",
        "*   832 = (5 x 5 de matriz W + 1 del bias) x 32 filtros\n",
        "*   0 => No hay parámetros que aprender porque es una operación max pooling\n",
        "*   La red convolucional 2 es 8 x 8, dado que partimos de una matriz 12 x 12 en una ventana 5 x5 con un stride = 1.\n",
        "*   51264 = (5 x 5 de matriz W x 32 filtros anteriores +  1 del bias) x 64 filtros\n",
        "*   10250 = 10 x 1024 + 10, porque tenemos 10 neuronas de la capa softmax, 1024 = 4 x 4 x 64, y les sumamos 10 del sesgo.\n",
        "*   62346 = 832 + 51264 + 10250 , puesto que es el número total de parámetros\n",
        "\n",
        "Después llevamos a cabo el paso de compilación cargando el optimizador, la función de pérdida y las métricas.\n",
        "\n",
        "\n"
      ]
    },
    {
      "cell_type": "code",
      "metadata": {
        "id": "aA0ZbY85cQ5V"
      },
      "source": [
        "red1.compile(optimizer='sgd', \n",
        "                loss='sparse_categorical_crossentropy',\n",
        "                metrics=['accuracy'])"
      ],
      "execution_count": 8,
      "outputs": []
    },
    {
      "cell_type": "markdown",
      "metadata": {
        "id": "qtaZYG0wdp28"
      },
      "source": [
        "Ahora preparamos las etiquetas. Para eso utilizamos _Flatten_ que sirve para aplanar la entrada y que así coincidan las dimensiones de la red, para así poder entrenarla. Además, de esta forma podremos usar la función de pérdida sparse_categorical_crossentropy, que explicaremos más adelante.\n",
        "\n"
      ]
    },
    {
      "cell_type": "code",
      "metadata": {
        "id": "rAKtPv1Jdo5O"
      },
      "source": [
        "red1.add(layers.Flatten(input_shape=(28,28)))"
      ],
      "execution_count": 9,
      "outputs": []
    },
    {
      "cell_type": "markdown",
      "metadata": {
        "id": "nh4Yuh-c2QQX"
      },
      "source": [
        "Por último entrenamos la red a través de fit, realizando 5 épocas de entrenamiento y en mini lotes de 100 imagenes en cada uno. Además, lo evaluamos con los datos de prueba."
      ]
    },
    {
      "cell_type": "code",
      "metadata": {
        "colab": {
          "base_uri": "https://localhost:8080/"
        },
        "id": "ONBwsjyy2d5o",
        "outputId": "bf83d1e9-7a47-43e8-8d5d-0b856f013c40"
      },
      "source": [
        "red1.fit(train_images, train_labels,\n",
        "          epochs=5,\n",
        "         batch_size=100,\n",
        "          verbose=0)\n",
        "\n",
        "test_loss, test_acc = red1.evaluate(test_images, test_labels)\n",
        "\n",
        "print('Test accuracy:', test_acc)"
      ],
      "execution_count": 10,
      "outputs": [
        {
          "output_type": "stream",
          "name": "stdout",
          "text": [
            "313/313 [==============================] - 1s 4ms/step - loss: 0.5327 - accuracy: 0.8019\n",
            "Test accuracy: 0.8019000291824341\n"
          ]
        }
      ]
    },
    {
      "cell_type": "markdown",
      "metadata": {
        "id": "SECo-ICv6_wI"
      },
      "source": [
        "La pérdida es de un 50% y la precisión de un 82%."
      ]
    },
    {
      "cell_type": "markdown",
      "metadata": {
        "id": "MVwaS8q16LUg"
      },
      "source": [
        "### 3.2 - Caso 2\n",
        "Esta red neuronal tiene 64 filtros en la primera capa convolucional y 128 en la segunda, la función de activación de las dos primeras capas convolucionales es *relu*, la penúltima capa densa es también *relu* y de la última capa densa es *softmax*. El optimizador es *sgd*, la función de perdida es *sparse_categorical_crossentropy*, la métrica es *accuracy* y el número de iteraciones es 5."
      ]
    },
    {
      "cell_type": "code",
      "metadata": {
        "colab": {
          "base_uri": "https://localhost:8080/"
        },
        "id": "Ooy05sYd6LVW",
        "outputId": "c3f41f26-df30-40a1-8ab9-0cfa12fd59bd"
      },
      "source": [
        "red2 = Sequential()\n",
        "red2.add(Conv2D(64, (7, 7), activation='relu', padding='same', input_shape=(28, 28, 1)))\n",
        "red2.add(MaxPooling2D((2, 2)))\n",
        "red2.add(Conv2D(128, (3, 3), activation='relu', padding='same'))\n",
        "red2.add(MaxPooling2D((2, 2)))\n",
        "red2.add(Flatten())\n",
        "red2.add(Dense(65, activation = 'relu'))\n",
        "red2.add(Dense(10, activation='softmax'))\n",
        "red2.summary()"
      ],
      "execution_count": 11,
      "outputs": [
        {
          "output_type": "stream",
          "name": "stdout",
          "text": [
            "Model: \"sequential_1\"\n",
            "_________________________________________________________________\n",
            " Layer (type)                Output Shape              Param #   \n",
            "=================================================================\n",
            " conv2d_2 (Conv2D)           (None, 28, 28, 64)        3200      \n",
            "                                                                 \n",
            " max_pooling2d_2 (MaxPooling  (None, 14, 14, 64)       0         \n",
            " 2D)                                                             \n",
            "                                                                 \n",
            " conv2d_3 (Conv2D)           (None, 14, 14, 128)       73856     \n",
            "                                                                 \n",
            " max_pooling2d_3 (MaxPooling  (None, 7, 7, 128)        0         \n",
            " 2D)                                                             \n",
            "                                                                 \n",
            " flatten_2 (Flatten)         (None, 6272)              0         \n",
            "                                                                 \n",
            " dense_1 (Dense)             (None, 65)                407745    \n",
            "                                                                 \n",
            " dense_2 (Dense)             (None, 10)                660       \n",
            "                                                                 \n",
            "=================================================================\n",
            "Total params: 485,461\n",
            "Trainable params: 485,461\n",
            "Non-trainable params: 0\n",
            "_________________________________________________________________\n"
          ]
        }
      ]
    },
    {
      "cell_type": "markdown",
      "metadata": {
        "id": "c2qR_4oE6LVZ"
      },
      "source": [
        "La función red2.summary() nos indica:\n",
        "\n",
        "\n",
        "*   3200 = (7 x 7 de matriz W + 1 del bias) x 64 filtros\n",
        "*   0 => No hay parámetros que aprender porque es una operación max pooling\n",
        "*   La red convolucional 2 es 14 x 14\n",
        "*   73856 = (3 x 3 de matriz W x 64 filtros anteriores +  1 del bias) x 128 filtros\n",
        "*   407745 = 65 x 6272 + 65, porque tenemos 65 neuronas en la penúltima capa, 6272 = 7 x 7 x 128, y le sumamos 65 del sesgo.\n",
        "*   660 = 10 x 65 + 10, porque tenemos 10 neuronas de la capa *softmax*, 65 neuronas de la capa anterior y le sumamos 10 del sesgo.\n",
        "*   485461 = 3200 + 73856 + 407745 + 660 , puesto que es el número total de parámetros\n",
        "\n",
        "Después llevamos a cabo el paso de compilación cargando el optimizador, la función de pérdida y las métricas.\n",
        "\n",
        "\n"
      ]
    },
    {
      "cell_type": "code",
      "metadata": {
        "id": "6TBcHuHv6LVb"
      },
      "source": [
        "red2.compile(optimizer='sgd', \n",
        "                loss='sparse_categorical_crossentropy',\n",
        "                metrics=['accuracy'])"
      ],
      "execution_count": 12,
      "outputs": []
    },
    {
      "cell_type": "markdown",
      "metadata": {
        "id": "bQ4wZWl66LVd"
      },
      "source": [
        "Por último entrenamos la red a través de fit, realizando 5 épocas de entrenamiento y en mini lotes de 100 imagenes en cada uno. Además, lo evaluamos con los datos de prueba."
      ]
    },
    {
      "cell_type": "code",
      "metadata": {
        "id": "AjAe5JXA6LVe",
        "colab": {
          "base_uri": "https://localhost:8080/"
        },
        "outputId": "657fa15e-0320-4f2a-b8fd-420810322d22"
      },
      "source": [
        "red2.fit(train_images, train_labels,\n",
        "          epochs=5,\n",
        "         batch_size=100,\n",
        "          verbose=0)\n",
        "\n",
        "test_loss, test_acc = red2.evaluate(test_images, test_labels)\n",
        "\n",
        "print('Test accuracy:', test_acc)"
      ],
      "execution_count": 13,
      "outputs": [
        {
          "output_type": "stream",
          "name": "stdout",
          "text": [
            "313/313 [==============================] - 2s 5ms/step - loss: 0.4742 - accuracy: 0.8295\n",
            "Test accuracy: 0.8295000195503235\n"
          ]
        }
      ]
    },
    {
      "cell_type": "markdown",
      "metadata": {
        "id": "c_E8c0DE_28Y"
      },
      "source": [
        "Vemos que la precisión es del 82% y la pérdida de un 47%."
      ]
    },
    {
      "cell_type": "markdown",
      "metadata": {
        "id": "yC2hWGTMASQJ"
      },
      "source": [
        "### 3.3 - Caso 3\n",
        "Esta red neuronal tiene 64 filtros en la primera capa convolucional y 128 en la segunda, la función de activación de las dos primeras capas convolucionales es *relu*, la penúltima capa densa es también *relu* y de la última capa densa es *softmax*. El optimizador es *adam*, la función de perdida es *sparse_categorical_crossentropy*, la métrica es *accuracy* y el número de iteraciones es 5."
      ]
    },
    {
      "cell_type": "code",
      "metadata": {
        "colab": {
          "base_uri": "https://localhost:8080/"
        },
        "id": "YbEJpw7eASQK",
        "outputId": "ddaf8c47-10f0-48ab-96af-80274ee84b22"
      },
      "source": [
        "red3 = Sequential()\n",
        "red3.add(Conv2D(64, (7, 7), activation='relu', padding='same', input_shape=(28, 28, 1)))\n",
        "red3.add(MaxPooling2D((2, 2)))\n",
        "red3.add(Conv2D(128, (3, 3), activation='relu', padding='same'))\n",
        "red3.add(MaxPooling2D((2, 2)))\n",
        "red3.add(Flatten())\n",
        "red3.add(Dense(65, activation = 'relu'))\n",
        "red3.add(Dense(10, activation='softmax'))\n",
        "red3.summary()"
      ],
      "execution_count": 14,
      "outputs": [
        {
          "output_type": "stream",
          "name": "stdout",
          "text": [
            "Model: \"sequential_2\"\n",
            "_________________________________________________________________\n",
            " Layer (type)                Output Shape              Param #   \n",
            "=================================================================\n",
            " conv2d_4 (Conv2D)           (None, 28, 28, 64)        3200      \n",
            "                                                                 \n",
            " max_pooling2d_4 (MaxPooling  (None, 14, 14, 64)       0         \n",
            " 2D)                                                             \n",
            "                                                                 \n",
            " conv2d_5 (Conv2D)           (None, 14, 14, 128)       73856     \n",
            "                                                                 \n",
            " max_pooling2d_5 (MaxPooling  (None, 7, 7, 128)        0         \n",
            " 2D)                                                             \n",
            "                                                                 \n",
            " flatten_3 (Flatten)         (None, 6272)              0         \n",
            "                                                                 \n",
            " dense_3 (Dense)             (None, 65)                407745    \n",
            "                                                                 \n",
            " dense_4 (Dense)             (None, 10)                660       \n",
            "                                                                 \n",
            "=================================================================\n",
            "Total params: 485,461\n",
            "Trainable params: 485,461\n",
            "Non-trainable params: 0\n",
            "_________________________________________________________________\n"
          ]
        }
      ]
    },
    {
      "cell_type": "markdown",
      "metadata": {
        "id": "35AwhtD-ASQM"
      },
      "source": [
        "La función red3.summary() nos indica:\n",
        "\n",
        "\n",
        "*   3200 = (7 x 7 de matriz W + 1 del bias) x 64 filtros\n",
        "*   0 => No hay parámetros que aprender porque es una operación max pooling\n",
        "*   La red convolucional 2 es 14 x 14\n",
        "*   73856 = (3 x 3 de matriz W x 64 filtros anteriores +  1 del bias) x 128 filtros\n",
        "*   407745 = 65 x 6272 + 65, porque tenemos 65 neuronas en la penúltima capa, 6272 = 7 x 7 x 128, y le sumamos 65 del sesgo.\n",
        "*   660 = 10 x 65 + 10, porque tenemos 10 neuronas de la capa *softmax*, 65 neuronas de la capa anterior y le sumamos 10 del sesgo.\n",
        "*   485461 = 3200 + 73856 + 407745 + 660 , puesto que es el número total de parámetros\n",
        "\n",
        "Después llevamos a cabo el paso de compilación cargando el optimizador, la función de pérdida y las métricas.\n",
        "\n",
        "\n"
      ]
    },
    {
      "cell_type": "code",
      "metadata": {
        "id": "qrZ1ck3RASQO"
      },
      "source": [
        "red3.compile(optimizer='Adam', \n",
        "                loss='sparse_categorical_crossentropy',\n",
        "                metrics=['accuracy'])"
      ],
      "execution_count": 15,
      "outputs": []
    },
    {
      "cell_type": "markdown",
      "metadata": {
        "id": "3Bay_Cv6ASQP"
      },
      "source": [
        "Por último entrenamos la red a través de fit, realizando 5 épocas de entrenamiento y en mini lotes de 100 imagenes en cada uno. Además, lo evaluamos con los datos de prueba."
      ]
    },
    {
      "cell_type": "code",
      "metadata": {
        "id": "Rr9WKLjPASQQ",
        "colab": {
          "base_uri": "https://localhost:8080/"
        },
        "outputId": "d8b5c4a1-bcd9-4c4f-ca50-55c436586b53"
      },
      "source": [
        "red3.fit(train_images, train_labels,\n",
        "          epochs=5,\n",
        "         batch_size=100,\n",
        "          verbose=0)\n",
        "\n",
        "test_loss, test_acc = red3.evaluate(test_images, test_labels)\n",
        "\n",
        "print('Test accuracy:', test_acc)"
      ],
      "execution_count": 16,
      "outputs": [
        {
          "output_type": "stream",
          "name": "stdout",
          "text": [
            "313/313 [==============================] - 1s 4ms/step - loss: 0.2649 - accuracy: 0.9060\n",
            "Test accuracy: 0.906000018119812\n"
          ]
        }
      ]
    },
    {
      "cell_type": "markdown",
      "metadata": {
        "id": "8qXn29fcASQS"
      },
      "source": [
        "Vemos que la precisión es del 91% y la pérdida de un 25%.  \n",
        "Después de crear los tres modelos distintos, vemos que el modelo con menor pérdida y mejor precisión, por tanto el mejor modelo, es el tercero. El peor modelo es el primero, ya que es el de mayor pérdida y menor precisión.\n",
        "A raiz de estos resultados comprobamos que el peor modelo tiene menos filtros que los otros dos y no tiene padding. Además, solo tiene una capa dense después de las convolucionales, a diferencia de los otros dos modelos que tienen dos capas dense. Asimismo, el tercer modelo utiliza el optimizador *adam*, obteniendo así mejores resultados que el segundo con esa única diferencia entre ambos."
      ]
    },
    {
      "cell_type": "markdown",
      "metadata": {
        "id": "Zy_mYQRtFemU"
      },
      "source": [
        "## 4. INTERPRETACIÓN RESULTADOS DEL CASO 1\n",
        "A continuación, vamos a multiplicar por cinco el número de épocas (25) en el caso 1.\n",
        "\n",
        "\n"
      ]
    },
    {
      "cell_type": "code",
      "metadata": {
        "colab": {
          "base_uri": "https://localhost:8080/"
        },
        "id": "y-fX5qMLFyZY",
        "outputId": "021bc1c1-5881-47e1-86e0-f46ac5504344"
      },
      "source": [
        "red1.fit(train_images, train_labels,\n",
        "          epochs=25,\n",
        "         batch_size=100,\n",
        "          verbose=0)\n",
        "\n",
        "test_loss, test_acc = red1.evaluate(test_images, test_labels)\n",
        "\n",
        "print('Test accuracy:', test_acc)"
      ],
      "execution_count": 17,
      "outputs": [
        {
          "output_type": "stream",
          "name": "stdout",
          "text": [
            "313/313 [==============================] - 1s 3ms/step - loss: 0.3441 - accuracy: 0.8806\n",
            "Test accuracy: 0.8805999755859375\n"
          ]
        }
      ]
    },
    {
      "cell_type": "markdown",
      "metadata": {
        "id": "BEr8TKNNbGEs"
      },
      "source": [
        "Vemos que ahora la pérdida de un 36%, mientras que con 5 épocas era de un 50%. Por otro lado, la precisión ha aumentado al 87% frente un 82% que tenía inicialmente.  \n",
        "En este caso, el modelo ha mejorado al multiplicar por cinco las épocas, no se ha producido *overfitting*."
      ]
    },
    {
      "cell_type": "markdown",
      "metadata": {
        "id": "G3_xxz6PF2oB"
      },
      "source": [
        "## 5. CAMBIO DE FUNCIÓN DE ACTIVACIÓN EN EL CASO 1\n",
        "Ahora vemos lo que ocurre si en lugar de la función de activación *relu* usamos *tanh* en las dos capas convolucionales de la red 1."
      ]
    },
    {
      "cell_type": "code",
      "metadata": {
        "colab": {
          "base_uri": "https://localhost:8080/"
        },
        "id": "X7tsR9QCGXFB",
        "outputId": "37bee1c1-76c7-44ae-b33d-6e55fa971bf1"
      },
      "source": [
        "red1 = Sequential()\n",
        "red1.add(Conv2D(32, (5, 5), activation='tanh', input_shape=(28, 28, 1)))\n",
        "red1.add(MaxPooling2D((2, 2)))\n",
        "red1.add(Conv2D(64, (5, 5), activation='tanh'))\n",
        "red1.add(MaxPooling2D((2, 2)))\n",
        "red1.add(Flatten())\n",
        "red1.add(Dense(10, activation='softmax'))\n",
        "red1.summary()"
      ],
      "execution_count": 18,
      "outputs": [
        {
          "output_type": "stream",
          "name": "stdout",
          "text": [
            "Model: \"sequential_3\"\n",
            "_________________________________________________________________\n",
            " Layer (type)                Output Shape              Param #   \n",
            "=================================================================\n",
            " conv2d_6 (Conv2D)           (None, 24, 24, 32)        832       \n",
            "                                                                 \n",
            " max_pooling2d_6 (MaxPooling  (None, 12, 12, 32)       0         \n",
            " 2D)                                                             \n",
            "                                                                 \n",
            " conv2d_7 (Conv2D)           (None, 8, 8, 64)          51264     \n",
            "                                                                 \n",
            " max_pooling2d_7 (MaxPooling  (None, 4, 4, 64)         0         \n",
            " 2D)                                                             \n",
            "                                                                 \n",
            " flatten_4 (Flatten)         (None, 1024)              0         \n",
            "                                                                 \n",
            " dense_5 (Dense)             (None, 10)                10250     \n",
            "                                                                 \n",
            "=================================================================\n",
            "Total params: 62,346\n",
            "Trainable params: 62,346\n",
            "Non-trainable params: 0\n",
            "_________________________________________________________________\n"
          ]
        }
      ]
    },
    {
      "cell_type": "code",
      "metadata": {
        "id": "wFAFyBF5GXFE"
      },
      "source": [
        "red1.compile(optimizer='sgd', \n",
        "                loss='sparse_categorical_crossentropy',\n",
        "                metrics=['accuracy'])"
      ],
      "execution_count": 19,
      "outputs": []
    },
    {
      "cell_type": "code",
      "metadata": {
        "colab": {
          "base_uri": "https://localhost:8080/"
        },
        "id": "Obow_lDfGXFF",
        "outputId": "e3a4a58e-c165-465a-aaf5-30d539a5daed"
      },
      "source": [
        "red1.fit(train_images, train_labels,\n",
        "          epochs=5,\n",
        "         batch_size=100,\n",
        "          verbose=0)\n",
        "\n",
        "test_loss, test_acc = red1.evaluate(test_images, test_labels)\n",
        "\n",
        "print('Test accuracy:', test_acc)"
      ],
      "execution_count": 20,
      "outputs": [
        {
          "output_type": "stream",
          "name": "stdout",
          "text": [
            "313/313 [==============================] - 1s 3ms/step - loss: 0.5125 - accuracy: 0.8171\n",
            "Test accuracy: 0.8170999884605408\n"
          ]
        }
      ]
    },
    {
      "cell_type": "markdown",
      "metadata": {
        "id": "xHSAJ7bLcV4x"
      },
      "source": [
        "En este caso, al cambiar la función de activación en las dos primeras capas convolucionales, la pérdida no ha variado con respecto a la incial. Sin embargo, la precisión ha disminuido a un 81%.  \n",
        "Por este motivo, creemos que es mejor dejar la función de activación *relu*. "
      ]
    },
    {
      "cell_type": "markdown",
      "metadata": {
        "id": "1GLf0q2CcUON"
      },
      "source": [
        "## 6. COMPARACIÓN DEL RENDIMIENTO DEL MODELO EN EL CONJUNTO DE DATOS DE ENTRENAMIENTO"
      ]
    },
    {
      "cell_type": "markdown",
      "metadata": {
        "id": "wLHaXdy6cjhk"
      },
      "source": [
        "Primero, creamos un conjunto de validación separando 10000 datos de entrenamiento para ver la precisión del modelo durante el entrenamiento con datos que nunca había visto. Después compararemos el rendimiento en cada una de las ocho redes."
      ]
    },
    {
      "cell_type": "code",
      "metadata": {
        "id": "WVCx31Aic2k0"
      },
      "source": [
        "x_val = train_images[:10000]\n",
        "partial_x_train = train_images[10000:]\n",
        "\n",
        "y_val = train_labels[:10000]\n",
        "partial_y_train = train_labels[10000:]"
      ],
      "execution_count": 21,
      "outputs": []
    },
    {
      "cell_type": "markdown",
      "metadata": {
        "id": "fwCTZZPMdPBB"
      },
      "source": [
        "### Caso 1"
      ]
    },
    {
      "cell_type": "code",
      "metadata": {
        "colab": {
          "base_uri": "https://localhost:8080/"
        },
        "id": "iJz3Nb9gdXoW",
        "outputId": "a3885985-c047-4976-b1d7-6a2338c415b1"
      },
      "source": [
        "red1.compile(optimizer='sgd', \n",
        "                loss='sparse_categorical_crossentropy',\n",
        "                metrics=['accuracy'])\n",
        "\n",
        "history = red1.fit(partial_x_train,\n",
        "                   partial_y_train,\n",
        "                   epochs  = 20,\n",
        "                   batch_size = 512,\n",
        "                   validation_data = (x_val, y_val))"
      ],
      "execution_count": 22,
      "outputs": [
        {
          "output_type": "stream",
          "name": "stdout",
          "text": [
            "Epoch 1/20\n",
            "98/98 [==============================] - 3s 24ms/step - loss: 0.4851 - accuracy: 0.8281 - val_loss: 0.4776 - val_accuracy: 0.8349\n",
            "Epoch 2/20\n",
            "98/98 [==============================] - 2s 18ms/step - loss: 0.4808 - accuracy: 0.8296 - val_loss: 0.4736 - val_accuracy: 0.8356\n",
            "Epoch 3/20\n",
            "98/98 [==============================] - 2s 18ms/step - loss: 0.4768 - accuracy: 0.8308 - val_loss: 0.4705 - val_accuracy: 0.8350\n",
            "Epoch 4/20\n",
            "98/98 [==============================] - 2s 18ms/step - loss: 0.4730 - accuracy: 0.8320 - val_loss: 0.4664 - val_accuracy: 0.8407\n",
            "Epoch 5/20\n",
            "98/98 [==============================] - 2s 18ms/step - loss: 0.4693 - accuracy: 0.8338 - val_loss: 0.4637 - val_accuracy: 0.8392\n",
            "Epoch 6/20\n",
            "98/98 [==============================] - 2s 18ms/step - loss: 0.4657 - accuracy: 0.8355 - val_loss: 0.4607 - val_accuracy: 0.8408\n",
            "Epoch 7/20\n",
            "98/98 [==============================] - 2s 18ms/step - loss: 0.4624 - accuracy: 0.8366 - val_loss: 0.4567 - val_accuracy: 0.8426\n",
            "Epoch 8/20\n",
            "98/98 [==============================] - 2s 18ms/step - loss: 0.4590 - accuracy: 0.8380 - val_loss: 0.4546 - val_accuracy: 0.8424\n",
            "Epoch 9/20\n",
            "98/98 [==============================] - 2s 18ms/step - loss: 0.4557 - accuracy: 0.8402 - val_loss: 0.4508 - val_accuracy: 0.8463\n",
            "Epoch 10/20\n",
            "98/98 [==============================] - 2s 18ms/step - loss: 0.4527 - accuracy: 0.8406 - val_loss: 0.4477 - val_accuracy: 0.8462\n",
            "Epoch 11/20\n",
            "98/98 [==============================] - 2s 18ms/step - loss: 0.4497 - accuracy: 0.8416 - val_loss: 0.4465 - val_accuracy: 0.8461\n",
            "Epoch 12/20\n",
            "98/98 [==============================] - 2s 18ms/step - loss: 0.4467 - accuracy: 0.8436 - val_loss: 0.4423 - val_accuracy: 0.8488\n",
            "Epoch 13/20\n",
            "98/98 [==============================] - 2s 18ms/step - loss: 0.4440 - accuracy: 0.8435 - val_loss: 0.4409 - val_accuracy: 0.8474\n",
            "Epoch 14/20\n",
            "98/98 [==============================] - 2s 18ms/step - loss: 0.4412 - accuracy: 0.8448 - val_loss: 0.4387 - val_accuracy: 0.8475\n",
            "Epoch 15/20\n",
            "98/98 [==============================] - 2s 18ms/step - loss: 0.4385 - accuracy: 0.8458 - val_loss: 0.4358 - val_accuracy: 0.8488\n",
            "Epoch 16/20\n",
            "98/98 [==============================] - 2s 18ms/step - loss: 0.4360 - accuracy: 0.8465 - val_loss: 0.4324 - val_accuracy: 0.8512\n",
            "Epoch 17/20\n",
            "98/98 [==============================] - 2s 18ms/step - loss: 0.4334 - accuracy: 0.8474 - val_loss: 0.4301 - val_accuracy: 0.8543\n",
            "Epoch 18/20\n",
            "98/98 [==============================] - 2s 18ms/step - loss: 0.4310 - accuracy: 0.8487 - val_loss: 0.4279 - val_accuracy: 0.8526\n",
            "Epoch 19/20\n",
            "98/98 [==============================] - 2s 18ms/step - loss: 0.4287 - accuracy: 0.8491 - val_loss: 0.4267 - val_accuracy: 0.8525\n",
            "Epoch 20/20\n",
            "98/98 [==============================] - 2s 18ms/step - loss: 0.4263 - accuracy: 0.8499 - val_loss: 0.4238 - val_accuracy: 0.8543\n"
          ]
        }
      ]
    },
    {
      "cell_type": "code",
      "metadata": {
        "colab": {
          "base_uri": "https://localhost:8080/",
          "height": 384
        },
        "id": "klVpjey_e4Ao",
        "outputId": "18b8a2d0-4df7-42c1-dbaa-d1780fb35fdd"
      },
      "source": [
        "history_dict = history.history\n",
        "history_dict.keys()\n",
        "print(history_dict['loss'])\n",
        "print(history_dict['accuracy'])\n",
        "print(history_dict['val_loss'])\n",
        "print(history_dict['val_accuracy'])\n",
        "\n",
        "accuracy = history.history['accuracy']\n",
        "val_accuracy = history.history['val_accuracy']\n",
        "loss = history.history['loss']\n",
        "val_loss = history.history['val_loss']\n",
        "\n",
        "epochs = range(1, len(accuracy) + 1)\n",
        "\n",
        "\n",
        "plt.plot(epochs, loss, 'bo', label='Pérdida de Entrenamiento')\n",
        "plt.plot(epochs, val_loss, 'b', label='Pérdida de Validación')\n",
        "plt.title('Pérdida de Entrenamiento y Validación')\n",
        "plt.xlabel('Epochs')\n",
        "plt.ylabel('Loss')\n",
        "plt.legend()\n",
        "\n",
        "plt.show()"
      ],
      "execution_count": 23,
      "outputs": [
        {
          "output_type": "stream",
          "name": "stdout",
          "text": [
            "[0.48514485359191895, 0.4808245599269867, 0.47681230306625366, 0.4730192720890045, 0.4693417251110077, 0.4656667113304138, 0.46240895986557007, 0.4590086340904236, 0.45573723316192627, 0.4526635408401489, 0.44974464178085327, 0.4466777443885803, 0.44404488801956177, 0.44118863344192505, 0.43854039907455444, 0.4359910190105438, 0.43341484665870667, 0.4309902489185333, 0.4286542236804962, 0.42629653215408325]\n",
            "[0.8280799984931946, 0.8295999765396118, 0.830839991569519, 0.8320000171661377, 0.8337600231170654, 0.8355200290679932, 0.8366000056266785, 0.8380200266838074, 0.840179979801178, 0.8406000137329102, 0.8415799736976624, 0.8435800075531006, 0.8434600234031677, 0.8448399901390076, 0.84579998254776, 0.8465200066566467, 0.8473600149154663, 0.8487399816513062, 0.849120020866394, 0.8499400019645691]\n",
            "[0.47760698199272156, 0.47361230850219727, 0.47047901153564453, 0.46644359827041626, 0.4636950194835663, 0.4607253968715668, 0.45669135451316833, 0.45455223321914673, 0.4507667124271393, 0.4477471113204956, 0.44652876257896423, 0.44232040643692017, 0.4408666491508484, 0.43870019912719727, 0.43575531244277954, 0.4323849081993103, 0.43011245131492615, 0.42793989181518555, 0.42668598890304565, 0.4238177239894867]\n",
            "[0.8349000215530396, 0.8356000185012817, 0.8349999785423279, 0.8406999707221985, 0.8392000198364258, 0.8407999873161316, 0.8425999879837036, 0.8424000144004822, 0.8463000059127808, 0.8461999893188477, 0.8460999727249146, 0.848800003528595, 0.8474000096321106, 0.8475000262260437, 0.848800003528595, 0.8511999845504761, 0.8543000221252441, 0.8525999784469604, 0.8525000214576721, 0.8543000221252441]\n"
          ]
        },
        {
          "output_type": "display_data",
          "data": {
            "image/png": "[encoded data removed]",
            "text/plain": [
              "<Figure size 432x288 with 1 Axes>"
            ]
          },
          "metadata": {
            "needs_background": "light"
          }
        }
      ]
    },
    {
      "cell_type": "markdown",
      "metadata": {
        "id": "nnHIddrKf5Rl"
      },
      "source": [
        "Se puede observar que sí mejora bastante el modelo con 20 épocas, puesto que la pérdida de los datos de validación y de los datos de entrenamiento son muy similares. Aunque, la pérdida de validación es mayor a partir de la decimoséptima iteración."
      ]
    },
    {
      "cell_type": "code",
      "metadata": {
        "colab": {
          "base_uri": "https://localhost:8080/",
          "height": 295
        },
        "id": "9A0gJKA3fVeJ",
        "outputId": "e46b200b-ca2a-47ae-fca9-6b21fa46d194"
      },
      "source": [
        "\n",
        "plt.clf()\n",
        "accuracy_values = history_dict['accuracy']\n",
        "val_accuracy_values = history_dict['val_accuracy']\n",
        "\n",
        "plt.plot(epochs, accuracy, 'bo', label='Precisión de Entrenamiento')\n",
        "plt.plot(epochs, val_accuracy, 'b', label='Precisión de Validación')\n",
        "plt.title('Precisión de Entrenamiento y Valización')\n",
        "plt.xlabel('Epochs')\n",
        "plt.ylabel('Loss')\n",
        "plt.legend()\n",
        "\n",
        "plt.show()"
      ],
      "execution_count": 24,
      "outputs": [
        {
          "output_type": "display_data",
          "data": {
            "image/png": "[encoded data removed]",
            "text/plain": [
              "<Figure size 432x288 with 1 Axes>"
            ]
          },
          "metadata": {
            "needs_background": "light"
          }
        }
      ]
    },
    {
      "cell_type": "markdown",
      "metadata": {
        "id": "fUsTThzxgcTe"
      },
      "source": [
        "Aquí vemos que también mejora bastante el modelo cuanto mayor sea el número de épocas, aunque a partir de la decimoséptima iteración la pracesión de entrenamiento es mayor que la de validación, pero en ningún caso se produce sobreentrenamiento."
      ]
    },
    {
      "cell_type": "markdown",
      "metadata": {
        "id": "dYRzPihLeHS7"
      },
      "source": [
        "### Caso 2"
      ]
    },
    {
      "cell_type": "code",
      "metadata": {
        "colab": {
          "base_uri": "https://localhost:8080/"
        },
        "id": "7E-Y7kjyhjgt",
        "outputId": "7d910d0e-090a-46f4-b224-37116aa57117"
      },
      "source": [
        "red2.compile(optimizer='sgd', \n",
        "                loss='sparse_categorical_crossentropy',\n",
        "                metrics=['accuracy'])\n",
        "\n",
        "history = red2.fit(partial_x_train,\n",
        "                   partial_y_train,\n",
        "                   epochs  = 20,\n",
        "                   batch_size = 512,\n",
        "                   validation_data = (x_val, y_val))"
      ],
      "execution_count": 25,
      "outputs": [
        {
          "output_type": "stream",
          "name": "stdout",
          "text": [
            "Epoch 1/20\n",
            "98/98 [==============================] - 6s 50ms/step - loss: 0.4475 - accuracy: 0.8406 - val_loss: 0.4367 - val_accuracy: 0.8463\n",
            "Epoch 2/20\n",
            "98/98 [==============================] - 5s 46ms/step - loss: 0.4412 - accuracy: 0.8446 - val_loss: 0.4319 - val_accuracy: 0.8502\n",
            "Epoch 3/20\n",
            "98/98 [==============================] - 4s 43ms/step - loss: 0.4378 - accuracy: 0.8446 - val_loss: 0.4301 - val_accuracy: 0.8482\n",
            "Epoch 4/20\n",
            "98/98 [==============================] - 5s 46ms/step - loss: 0.4322 - accuracy: 0.8481 - val_loss: 0.4237 - val_accuracy: 0.8539\n",
            "Epoch 5/20\n",
            "98/98 [==============================] - 4s 43ms/step - loss: 0.4294 - accuracy: 0.8487 - val_loss: 0.4253 - val_accuracy: 0.8479\n",
            "Epoch 6/20\n",
            "98/98 [==============================] - 4s 44ms/step - loss: 0.4239 - accuracy: 0.8516 - val_loss: 0.4313 - val_accuracy: 0.8455\n",
            "Epoch 7/20\n",
            "98/98 [==============================] - 4s 43ms/step - loss: 0.4236 - accuracy: 0.8505 - val_loss: 0.4254 - val_accuracy: 0.8475\n",
            "Epoch 8/20\n",
            "98/98 [==============================] - 4s 43ms/step - loss: 0.4196 - accuracy: 0.8513 - val_loss: 0.4051 - val_accuracy: 0.8605\n",
            "Epoch 9/20\n",
            "98/98 [==============================] - 4s 43ms/step - loss: 0.4156 - accuracy: 0.8532 - val_loss: 0.4078 - val_accuracy: 0.8563\n",
            "Epoch 10/20\n",
            "98/98 [==============================] - 4s 43ms/step - loss: 0.4102 - accuracy: 0.8549 - val_loss: 0.4021 - val_accuracy: 0.8596\n",
            "Epoch 11/20\n",
            "98/98 [==============================] - 4s 43ms/step - loss: 0.4078 - accuracy: 0.8558 - val_loss: 0.4274 - val_accuracy: 0.8487\n",
            "Epoch 12/20\n",
            "98/98 [==============================] - 4s 43ms/step - loss: 0.4069 - accuracy: 0.8556 - val_loss: 0.4040 - val_accuracy: 0.8574\n",
            "Epoch 13/20\n",
            "98/98 [==============================] - 4s 43ms/step - loss: 0.4041 - accuracy: 0.8570 - val_loss: 0.4107 - val_accuracy: 0.8539\n",
            "Epoch 14/20\n",
            "98/98 [==============================] - 4s 43ms/step - loss: 0.4020 - accuracy: 0.8572 - val_loss: 0.4013 - val_accuracy: 0.8616\n",
            "Epoch 15/20\n",
            "98/98 [==============================] - 4s 43ms/step - loss: 0.4022 - accuracy: 0.8571 - val_loss: 0.3899 - val_accuracy: 0.8675\n",
            "Epoch 16/20\n",
            "98/98 [==============================] - 4s 43ms/step - loss: 0.3992 - accuracy: 0.8571 - val_loss: 0.4010 - val_accuracy: 0.8573\n",
            "Epoch 17/20\n",
            "98/98 [==============================] - 5s 46ms/step - loss: 0.3948 - accuracy: 0.8598 - val_loss: 0.3986 - val_accuracy: 0.8596\n",
            "Epoch 18/20\n",
            "98/98 [==============================] - 5s 47ms/step - loss: 0.3890 - accuracy: 0.8625 - val_loss: 0.4031 - val_accuracy: 0.8555\n",
            "Epoch 19/20\n",
            "98/98 [==============================] - 4s 43ms/step - loss: 0.3908 - accuracy: 0.8608 - val_loss: 0.3783 - val_accuracy: 0.8688\n",
            "Epoch 20/20\n",
            "98/98 [==============================] - 4s 43ms/step - loss: 0.3865 - accuracy: 0.8616 - val_loss: 0.3820 - val_accuracy: 0.8684\n"
          ]
        }
      ]
    },
    {
      "cell_type": "code",
      "metadata": {
        "colab": {
          "base_uri": "https://localhost:8080/",
          "height": 384
        },
        "id": "n6Y-omJBhjgu",
        "outputId": "b973d9bb-6e06-4662-c3e2-73743accf31d"
      },
      "source": [
        "history_dict = history.history\n",
        "history_dict.keys()\n",
        "print(history_dict['loss'])\n",
        "print(history_dict['accuracy'])\n",
        "print(history_dict['val_loss'])\n",
        "print(history_dict['val_accuracy'])\n",
        "\n",
        "accuracy = history.history['accuracy']\n",
        "val_accuracy = history.history['val_accuracy']\n",
        "loss = history.history['loss']\n",
        "val_loss = history.history['val_loss']\n",
        "\n",
        "epochs = range(1, len(accuracy) + 1)\n",
        "\n",
        "\n",
        "plt.plot(epochs, loss, 'bo', label='Pérdida de Entrenamiento')\n",
        "plt.plot(epochs, val_loss, 'b', label='Pérdida de Validación')\n",
        "plt.title('Pérdida de Entrenamiento y Validación')\n",
        "plt.xlabel('Epochs')\n",
        "plt.ylabel('Loss')\n",
        "plt.legend()\n",
        "\n",
        "plt.show()"
      ],
      "execution_count": 26,
      "outputs": [
        {
          "output_type": "stream",
          "name": "stdout",
          "text": [
            "[0.44754156470298767, 0.4412471354007721, 0.43783941864967346, 0.4322100281715393, 0.42935752868652344, 0.42393729090690613, 0.42359983921051025, 0.4195628762245178, 0.4155564308166504, 0.4101700782775879, 0.40777090191841125, 0.4068591296672821, 0.40410539507865906, 0.4019918739795685, 0.4022381901741028, 0.39918604493141174, 0.39483559131622314, 0.38897910714149475, 0.39083483815193176, 0.38645118474960327]\n",
            "[0.8406400084495544, 0.8445600271224976, 0.8445600271224976, 0.8480600118637085, 0.8486599922180176, 0.851580023765564, 0.8505399823188782, 0.8513000011444092, 0.8532000184059143, 0.8549200296401978, 0.8557800054550171, 0.8556200265884399, 0.85698002576828, 0.8571599721908569, 0.8570799827575684, 0.8570799827575684, 0.8597999811172485, 0.8624600172042847, 0.860759973526001, 0.8615800142288208]\n",
            "[0.43671146035194397, 0.43188241124153137, 0.43013301491737366, 0.4236902892589569, 0.42530328035354614, 0.43130332231521606, 0.42535609006881714, 0.40509167313575745, 0.40777379274368286, 0.4020971953868866, 0.4274370074272156, 0.40400999784469604, 0.4107343256473541, 0.40134644508361816, 0.3899480104446411, 0.40099188685417175, 0.39859768748283386, 0.4031285345554352, 0.3782529830932617, 0.3819865584373474]\n",
            "[0.8463000059127808, 0.8501999974250793, 0.8482000231742859, 0.8539000153541565, 0.8478999733924866, 0.8454999923706055, 0.8475000262260437, 0.8604999780654907, 0.8562999963760376, 0.8596000075340271, 0.8486999869346619, 0.8574000000953674, 0.8539000153541565, 0.8615999817848206, 0.8675000071525574, 0.8572999835014343, 0.8596000075340271, 0.8554999828338623, 0.8687999844551086, 0.868399977684021]\n"
          ]
        },
        {
          "output_type": "display_data",
          "data": {
            "image/png": "[encoded data removed]",
            "text/plain": [
              "<Figure size 432x288 with 1 Axes>"
            ]
          },
          "metadata": {
            "needs_background": "light"
          }
        }
      ]
    },
    {
      "cell_type": "markdown",
      "metadata": {
        "id": "AeSLAIaMhjgv"
      },
      "source": [
        "Se puede observar que la pérdida de validación se comporta de manera totalmente diferente que la pérdida de entrenamiento y que la pérdida de validación inicial es la menor de todas las pérdidas de validación. Aunque es mayor a la de entrenamiento. Creemos que con dos épocas de entrenamiento sería suficiente."
      ]
    },
    {
      "cell_type": "code",
      "metadata": {
        "colab": {
          "base_uri": "https://localhost:8080/",
          "height": 295
        },
        "id": "HA80Omvthjgw",
        "outputId": "1c5a36c3-e281-4c7a-c1af-91bf59356711"
      },
      "source": [
        "\n",
        "plt.clf()\n",
        "accuracy_values = history_dict['accuracy']\n",
        "val_accuracy_values = history_dict['val_accuracy']\n",
        "\n",
        "plt.plot(epochs, accuracy, 'bo', label='Precisión de Entrenamiento')\n",
        "plt.plot(epochs, val_accuracy, 'b', label='Precisión de Validación')\n",
        "plt.title('Precisión de Entrenamiento y Valización')\n",
        "plt.xlabel('Epochs')\n",
        "plt.ylabel('Loss')\n",
        "plt.legend()\n",
        "\n",
        "plt.show()"
      ],
      "execution_count": 27,
      "outputs": [
        {
          "output_type": "display_data",
          "data": {
            "image/png": "[encoded data removed]",
            "text/plain": [
              "<Figure size 432x288 with 1 Axes>"
            ]
          },
          "metadata": {
            "needs_background": "light"
          }
        }
      ]
    },
    {
      "cell_type": "markdown",
      "metadata": {
        "id": "UvIV3ct8hjgx"
      },
      "source": [
        "Aquí vemos que la precisión de entrenamiento es mayor cuantas más épocas realicemos. Por otro lado, la de validación es menor a la de entrenamiento y a partir de la tercera iteración se vuelve un poco caótica. "
      ]
    },
    {
      "cell_type": "markdown",
      "metadata": {
        "id": "qKiyxrgUiXEQ"
      },
      "source": [
        "### Caso 3"
      ]
    },
    {
      "cell_type": "code",
      "metadata": {
        "colab": {
          "base_uri": "https://localhost:8080/"
        },
        "id": "_YJNPTFqiY7e",
        "outputId": "cca43ae5-b8b4-4256-f0d6-7e726088455b"
      },
      "source": [
        "red3.compile(   optimizer = 'Adam',\n",
        "                loss='sparse_categorical_crossentropy',\n",
        "                metrics=['accuracy'])\n",
        "\n",
        "history = red3.fit(partial_x_train,\n",
        "                   partial_y_train,\n",
        "                   epochs  = 20,\n",
        "                   batch_size = 512,\n",
        "                   validation_data = (x_val, y_val))"
      ],
      "execution_count": 28,
      "outputs": [
        {
          "output_type": "stream",
          "name": "stdout",
          "text": [
            "Epoch 1/20\n",
            "98/98 [==============================] - 5s 45ms/step - loss: 0.1567 - accuracy: 0.9434 - val_loss: 0.1475 - val_accuracy: 0.9438\n",
            "Epoch 2/20\n",
            "98/98 [==============================] - 4s 43ms/step - loss: 0.1365 - accuracy: 0.9511 - val_loss: 0.1530 - val_accuracy: 0.9417\n",
            "Epoch 3/20\n",
            "98/98 [==============================] - 4s 43ms/step - loss: 0.1225 - accuracy: 0.9559 - val_loss: 0.1487 - val_accuracy: 0.9435\n",
            "Epoch 4/20\n",
            "98/98 [==============================] - 4s 43ms/step - loss: 0.1098 - accuracy: 0.9614 - val_loss: 0.1551 - val_accuracy: 0.9416\n",
            "Epoch 5/20\n",
            "98/98 [==============================] - 4s 43ms/step - loss: 0.0968 - accuracy: 0.9659 - val_loss: 0.1535 - val_accuracy: 0.9438\n",
            "Epoch 6/20\n",
            "98/98 [==============================] - 4s 43ms/step - loss: 0.0848 - accuracy: 0.9707 - val_loss: 0.1519 - val_accuracy: 0.9434\n",
            "Epoch 7/20\n",
            "98/98 [==============================] - 5s 46ms/step - loss: 0.0771 - accuracy: 0.9731 - val_loss: 0.1670 - val_accuracy: 0.9422\n",
            "Epoch 8/20\n",
            "98/98 [==============================] - 5s 47ms/step - loss: 0.0708 - accuracy: 0.9753 - val_loss: 0.1771 - val_accuracy: 0.9384\n",
            "Epoch 9/20\n",
            "98/98 [==============================] - 4s 43ms/step - loss: 0.0598 - accuracy: 0.9797 - val_loss: 0.1649 - val_accuracy: 0.9407\n",
            "Epoch 10/20\n",
            "98/98 [==============================] - 4s 43ms/step - loss: 0.0539 - accuracy: 0.9813 - val_loss: 0.1789 - val_accuracy: 0.9383\n",
            "Epoch 11/20\n",
            "98/98 [==============================] - 4s 43ms/step - loss: 0.0457 - accuracy: 0.9848 - val_loss: 0.2111 - val_accuracy: 0.9322\n",
            "Epoch 12/20\n",
            "98/98 [==============================] - 4s 43ms/step - loss: 0.0426 - accuracy: 0.9861 - val_loss: 0.1888 - val_accuracy: 0.9397\n",
            "Epoch 13/20\n",
            "98/98 [==============================] - 4s 43ms/step - loss: 0.0342 - accuracy: 0.9887 - val_loss: 0.2010 - val_accuracy: 0.9369\n",
            "Epoch 14/20\n",
            "98/98 [==============================] - 4s 43ms/step - loss: 0.0320 - accuracy: 0.9900 - val_loss: 0.2115 - val_accuracy: 0.9353\n",
            "Epoch 15/20\n",
            "98/98 [==============================] - 4s 43ms/step - loss: 0.0288 - accuracy: 0.9909 - val_loss: 0.2208 - val_accuracy: 0.9357\n",
            "Epoch 16/20\n",
            "98/98 [==============================] - 4s 43ms/step - loss: 0.0211 - accuracy: 0.9935 - val_loss: 0.2249 - val_accuracy: 0.9349\n",
            "Epoch 17/20\n",
            "98/98 [==============================] - 4s 44ms/step - loss: 0.0168 - accuracy: 0.9957 - val_loss: 0.2207 - val_accuracy: 0.9390\n",
            "Epoch 18/20\n",
            "98/98 [==============================] - 4s 43ms/step - loss: 0.0145 - accuracy: 0.9962 - val_loss: 0.2370 - val_accuracy: 0.9366\n",
            "Epoch 19/20\n",
            "98/98 [==============================] - 4s 43ms/step - loss: 0.0109 - accuracy: 0.9975 - val_loss: 0.2451 - val_accuracy: 0.9381\n",
            "Epoch 20/20\n",
            "98/98 [==============================] - 5s 47ms/step - loss: 0.0091 - accuracy: 0.9984 - val_loss: 0.2537 - val_accuracy: 0.9389\n"
          ]
        }
      ]
    },
    {
      "cell_type": "code",
      "metadata": {
        "colab": {
          "base_uri": "https://localhost:8080/",
          "height": 384
        },
        "id": "gF5p8XkgiY7f",
        "outputId": "b654a88e-94d7-4ed0-c7b7-76af518a8a28"
      },
      "source": [
        "history_dict = history.history\n",
        "history_dict.keys()\n",
        "print(history_dict['loss'])\n",
        "print(history_dict['accuracy'])\n",
        "print(history_dict['val_loss'])\n",
        "print(history_dict['val_accuracy'])\n",
        "\n",
        "accuracy = history.history['accuracy']\n",
        "val_accuracy = history.history['val_accuracy']\n",
        "loss = history.history['loss']\n",
        "val_loss = history.history['val_loss']\n",
        "\n",
        "epochs = range(1, len(accuracy) + 1)\n",
        "\n",
        "\n",
        "plt.plot(epochs, loss, 'bo', label='Pérdida de Entrenamiento')\n",
        "plt.plot(epochs, val_loss, 'b', label='Pérdida de Validación')\n",
        "plt.title('Pérdida de Entrenamiento y Validación')\n",
        "plt.xlabel('Epochs')\n",
        "plt.ylabel('Loss')\n",
        "plt.legend()\n",
        "\n",
        "plt.show()"
      ],
      "execution_count": 29,
      "outputs": [
        {
          "output_type": "stream",
          "name": "stdout",
          "text": [
            "[0.15672990679740906, 0.1364518702030182, 0.12245799601078033, 0.10979907214641571, 0.0967659056186676, 0.08484410494565964, 0.07710156589746475, 0.07084771990776062, 0.05982166528701782, 0.05393083021044731, 0.04574432224035263, 0.04264768958091736, 0.0341976173222065, 0.031951744109392166, 0.028847338631749153, 0.021129975095391273, 0.016849054023623466, 0.014459725469350815, 0.010946499183773994, 0.009106508456170559]\n",
            "[0.9434199929237366, 0.9510800242424011, 0.9558799862861633, 0.9613999724388123, 0.9659199714660645, 0.9707199931144714, 0.9730600118637085, 0.9752600193023682, 0.9797000288963318, 0.9813399910926819, 0.9847599864006042, 0.9861000180244446, 0.9887199997901917, 0.9900000095367432, 0.990880012512207, 0.9934800267219543, 0.9956600069999695, 0.9961599707603455, 0.9975200295448303, 0.9984400272369385]\n",
            "[0.14751657843589783, 0.15299631655216217, 0.14871720969676971, 0.15514208376407623, 0.15349005162715912, 0.15188418328762054, 0.1670018583536148, 0.17710089683532715, 0.16490066051483154, 0.17889004945755005, 0.2110998034477234, 0.1888258010149002, 0.20104289054870605, 0.21154004335403442, 0.22078944742679596, 0.22493454813957214, 0.22066833078861237, 0.2370019108057022, 0.24510526657104492, 0.25368547439575195]\n",
            "[0.9437999725341797, 0.9416999816894531, 0.9434999823570251, 0.9416000247001648, 0.9437999725341797, 0.9434000253677368, 0.9422000050544739, 0.9383999705314636, 0.9406999945640564, 0.9383000135421753, 0.932200014591217, 0.9397000074386597, 0.9369000196456909, 0.9352999925613403, 0.935699999332428, 0.9348999857902527, 0.9390000104904175, 0.9366000294685364, 0.9380999803543091, 0.9388999938964844]\n"
          ]
        },
        {
          "output_type": "display_data",
          "data": {
            "image/png": "[encoded data removed]",
            "text/plain": [
              "<Figure size 432x288 with 1 Axes>"
            ]
          },
          "metadata": {
            "needs_background": "light"
          }
        }
      ]
    },
    {
      "cell_type": "markdown",
      "metadata": {
        "id": "NJlkV4iDiY7g"
      },
      "source": [
        "Se puede observar que el modelo con 20 épocas no mejora más con más épocas, puesto que la pérdida de los datos de entrenamiento ya es muy baja desde el inicio y la de los datos de validación aumenta según aumentan las pérdidas. Creemos que con dos o tres épocas sería suficiente."
      ]
    },
    {
      "cell_type": "code",
      "metadata": {
        "colab": {
          "base_uri": "https://localhost:8080/",
          "height": 295
        },
        "id": "pPSCN_6miY7g",
        "outputId": "602d78b6-dd9f-4f61-97c5-20df0e01a75b"
      },
      "source": [
        "\n",
        "plt.clf()\n",
        "accuracy_values = history_dict['accuracy']\n",
        "val_accuracy_values = history_dict['val_accuracy']\n",
        "\n",
        "plt.plot(epochs, accuracy, 'bo', label='Precisión de Entrenamiento')\n",
        "plt.plot(epochs, val_accuracy, 'b', label='Precisión de Validación')\n",
        "plt.title('Precisión de Entrenamiento y Valización')\n",
        "plt.xlabel('Epochs')\n",
        "plt.ylabel('Loss')\n",
        "plt.legend()\n",
        "\n",
        "plt.show()"
      ],
      "execution_count": 30,
      "outputs": [
        {
          "output_type": "display_data",
          "data": {
            "image/png": "[encoded data removed]",
            "text/plain": [
              "<Figure size 432x288 with 1 Axes>"
            ]
          },
          "metadata": {
            "needs_background": "light"
          }
        }
      ]
    },
    {
      "cell_type": "markdown",
      "metadata": {
        "id": "9PlztL2WiY7h"
      },
      "source": [
        "Aquí vemos que tampoco mejora bastante el modelo cuanto mayor sea el número de épocas.  \n",
        "Tras evaluar el modelo con los datos de validación, vemos que como ya sabíamos previamente, los modelos con padding y con más filtros necesitan menos épocas para funcionar igual de bien, es decir, son mejores."
      ]
    },
    {
      "cell_type": "markdown",
      "metadata": {
        "id": "5WCOLeUUqCbo"
      },
      "source": [
        "## 7. PREDICCIONES SOBRE LAS IMÁGENES DE _TEST_\n",
        "Vamos a realizar predicciones para las 14 primeras imágenes con cada uno de los tres modelos. Después comentaremos los resultados para la sexta imagen.  \n",
        "Primero vemos que la sexta imagen corresponde con unos pantalones."
      ]
    },
    {
      "cell_type": "code",
      "metadata": {
        "colab": {
          "base_uri": "https://localhost:8080/",
          "height": 265
        },
        "id": "4QhMjAW5mjU6",
        "outputId": "f7751872-bec1-4a30-a479-198bab71a607"
      },
      "source": [
        "(train_images, train_labels), (test_images, test_labels) = fashion_mnist.load_data()\n",
        "digit = test_images[5]\n",
        "plt.imshow(digit, cmap=plt.cm.binary)\n",
        "plt.show()"
      ],
      "execution_count": null,
      "outputs": [
        {
          "output_type": "display_data",
          "data": {
            "image/png": "[encoded data removed]",
            "text/plain": [
              "<Figure size 432x288 with 1 Axes>"
            ]
          },
          "metadata": {
            "needs_background": "light"
          }
        }
      ]
    },
    {
      "cell_type": "markdown",
      "metadata": {
        "id": "r7X7CVHKCbwA"
      },
      "source": [
        "Después creamos la función plot_image para ir mostrando por pantalla las distintas predicciones."
      ]
    },
    {
      "cell_type": "code",
      "metadata": {
        "id": "BvvjhU8ZqF2S"
      },
      "source": [
        "def plot_image(i, predictions_array, true_label, img):\n",
        "  predictions_array, true_label, img = predictions_array, true_label[i], img[i]\n",
        "  plt.grid(False)\n",
        "  plt.xticks([])\n",
        "  plt.yticks([])\n",
        "\n",
        "  plt.imshow(img, cmap=plt.cm.binary)    \n",
        "\n",
        "  predicted_label = np.argmax(predictions_array)\n",
        "  if predicted_label.all() == true_label.all():\n",
        "    color = 'blue'\n",
        "  else:\n",
        "    color = 'red'\n",
        "\n",
        "  plt.xlabel(\"{} {:2.0f}% ({})\".format(predicted_label,\n",
        "                                100*np.max(predictions_array),\n",
        "                                true_label),\n",
        "                                color=color)\n",
        "\n",
        "def plot_value_array(i, predictions_array, true_label):\n",
        "  predictions_array, true_label = predictions_array, true_label[i]\n",
        "  plt.grid(False)\n",
        "  plt.xticks(range(10))\n",
        "  plt.yticks([])\n",
        "  thisplot = plt.bar(range(10), predictions_array, color=\"#00FF00\")\n",
        "  plt.ylim([0, 1])\n",
        "  predicted_label = np.argmax(predictions_array)\n",
        "\n",
        "  thisplot[predicted_label].set_color('red')\n",
        "  thisplot[true_label].set_color('black')"
      ],
      "execution_count": null,
      "outputs": []
    },
    {
      "cell_type": "markdown",
      "metadata": {
        "id": "LjRKmITrpoI3"
      },
      "source": [
        "### Caso 1"
      ]
    },
    {
      "cell_type": "code",
      "metadata": {
        "colab": {
          "base_uri": "https://localhost:8080/"
        },
        "id": "KVyD_8NApmNa",
        "outputId": "6a0e2ab5-cf3f-4a2a-908f-9b117b2378ed"
      },
      "source": [
        "predictions = red1.predict(test_images)\n",
        "print(np.argmax(predictions[5]))\n",
        "print(predictions[5])\n",
        "np.sum(predictions[5])\n",
        "print(predictions)"
      ],
      "execution_count": null,
      "outputs": [
        {
          "output_type": "stream",
          "name": "stdout",
          "text": [
            "1\n",
            "[1.3472604e-02 9.6461552e-01 5.8377162e-04 6.8395800e-04 1.3488210e-02\n",
            " 1.0544972e-05 7.0582400e-03 2.0112268e-06 8.4911822e-05 1.9373891e-07]\n",
            "[[5.91972935e-07 9.24511880e-08 2.09253576e-05 ... 1.30481511e-01\n",
            "  1.84468236e-02 7.37740338e-01]\n",
            " [1.74893085e-02 1.13988564e-04 8.62250388e-01 ... 2.27990245e-06\n",
            "  9.31565184e-03 4.62036231e-04]\n",
            " [6.11246040e-04 9.98774350e-01 2.67967425e-05 ... 1.31360525e-06\n",
            "  8.89452713e-06 2.13266063e-07]\n",
            " ...\n",
            " [6.67527094e-02 7.14830458e-05 6.83743060e-02 ... 1.22144178e-04\n",
            "  5.41389525e-01 3.96394535e-06]\n",
            " [1.27475068e-04 9.96956348e-01 7.29025051e-05 ... 2.78405787e-05\n",
            "  6.15489535e-06 4.27325904e-06]\n",
            " [1.70607764e-05 3.14210865e-06 5.02688752e-04 ... 1.00003823e-03\n",
            "  9.89499986e-01 1.67691207e-03]]\n"
          ]
        }
      ]
    },
    {
      "cell_type": "code",
      "metadata": {
        "colab": {
          "base_uri": "https://localhost:8080/",
          "height": 1000
        },
        "id": "K6zPRJZHnJPS",
        "outputId": "d9a72d54-716a-4f56-ed0d-c70f7e90d4e1"
      },
      "source": [
        "(train_images, train_labels), (test_images, test_labels) = fashion_mnist.load_data()\n",
        "\n",
        "predictions = red1.predict(test_images)\n",
        "for i in range(14):\n",
        "  plt.figure(figsize=(6,3))\n",
        "  plt.subplot(1,2,1)\n",
        "  plot_image(i, predictions[i], test_labels, test_images.reshape(10000,28,28))\n",
        "  plt.subplot(1,2,2)\n",
        "  plot_value_array(i, predictions[i],  test_labels)\n",
        "  plt.show()\n",
        "  plt.clf()"
      ],
      "execution_count": null,
      "outputs": [
        {
          "output_type": "display_data",
          "data": {
            "image/png": "[encoded data removed]",
            "text/plain": [
              "<Figure size 432x216 with 2 Axes>"
            ]
          },
          "metadata": {
            "needs_background": "light"
          }
        },
        {
          "output_type": "display_data",
          "data": {
            "text/plain": [
              "<Figure size 432x288 with 0 Axes>"
            ]
          },
          "metadata": {}
        },
        {
          "output_type": "display_data",
          "data": {
            "image/png": "[encoded data removed]",
            "text/plain": [
              "<Figure size 432x216 with 2 Axes>"
            ]
          },
          "metadata": {
            "needs_background": "light"
          }
        },
        {
          "output_type": "display_data",
          "data": {
            "text/plain": [
              "<Figure size 432x288 with 0 Axes>"
            ]
          },
          "metadata": {}
        },
        {
          "output_type": "display_data",
          "data": {
            "image/png": "[encoded data removed]",
            "text/plain": [
              "<Figure size 432x216 with 2 Axes>"
            ]
          },
          "metadata": {
            "needs_background": "light"
          }
        },
        {
          "output_type": "display_data",
          "data": {
            "text/plain": [
              "<Figure size 432x288 with 0 Axes>"
            ]
          },
          "metadata": {}
        },
        {
          "output_type": "display_data",
          "data": {
            "image/png": "[encoded data removed]",
            "text/plain": [
              "<Figure size 432x216 with 2 Axes>"
            ]
          },
          "metadata": {
            "needs_background": "light"
          }
        },
        {
          "output_type": "display_data",
          "data": {
            "text/plain": [
              "<Figure size 432x288 with 0 Axes>"
            ]
          },
          "metadata": {}
        },
        {
          "output_type": "display_data",
          "data": {
            "image/png": "[encoded data removed]",
            "text/plain": [
              "<Figure size 432x216 with 2 Axes>"
            ]
          },
          "metadata": {
            "needs_background": "light"
          }
        },
        {
          "output_type": "display_data",
          "data": {
            "text/plain": [
              "<Figure size 432x288 with 0 Axes>"
            ]
          },
          "metadata": {}
        },
        {
          "output_type": "display_data",
          "data": {
            "image/png": "[encoded data removed]",
            "text/plain": [
              "<Figure size 432x216 with 2 Axes>"
            ]
          },
          "metadata": {
            "needs_background": "light"
          }
        },
        {
          "output_type": "display_data",
          "data": {
            "text/plain": [
              "<Figure size 432x288 with 0 Axes>"
            ]
          },
          "metadata": {}
        },
        {
          "output_type": "display_data",
          "data": {
            "image/png": "[encoded data removed]",
            "text/plain": [
              "<Figure size 432x216 with 2 Axes>"
            ]
          },
          "metadata": {
            "needs_background": "light"
          }
        },
        {
          "output_type": "display_data",
          "data": {
            "text/plain": [
              "<Figure size 432x288 with 0 Axes>"
            ]
          },
          "metadata": {}
        },
        {
          "output_type": "display_data",
          "data": {
            "image/png": "[encoded data removed]",
            "text/plain": [
              "<Figure size 432x216 with 2 Axes>"
            ]
          },
          "metadata": {
            "needs_background": "light"
          }
        },
        {
          "output_type": "display_data",
          "data": {
            "text/plain": [
              "<Figure size 432x288 with 0 Axes>"
            ]
          },
          "metadata": {}
        },
        {
          "output_type": "display_data",
          "data": {
            "image/png": "[encoded data removed]",
            "text/plain": [
              "<Figure size 432x216 with 2 Axes>"
            ]
          },
          "metadata": {
            "needs_background": "light"
          }
        },
        {
          "output_type": "display_data",
          "data": {
            "text/plain": [
              "<Figure size 432x288 with 0 Axes>"
            ]
          },
          "metadata": {}
        },
        {
          "output_type": "display_data",
          "data": {
            "image/png": "[encoded data removed]",
            "text/plain": [
              "<Figure size 432x216 with 2 Axes>"
            ]
          },
          "metadata": {
            "needs_background": "light"
          }
        },
        {
          "output_type": "display_data",
          "data": {
            "text/plain": [
              "<Figure size 432x288 with 0 Axes>"
            ]
          },
          "metadata": {}
        },
        {
          "output_type": "display_data",
          "data": {
            "image/png": "[encoded data removed]",
            "text/plain": [
              "<Figure size 432x216 with 2 Axes>"
            ]
          },
          "metadata": {
            "needs_background": "light"
          }
        },
        {
          "output_type": "display_data",
          "data": {
            "text/plain": [
              "<Figure size 432x288 with 0 Axes>"
            ]
          },
          "metadata": {}
        },
        {
          "output_type": "display_data",
          "data": {
            "image/png": "[encoded data removed]",
            "text/plain": [
              "<Figure size 432x216 with 2 Axes>"
            ]
          },
          "metadata": {
            "needs_background": "light"
          }
        },
        {
          "output_type": "display_data",
          "data": {
            "text/plain": [
              "<Figure size 432x288 with 0 Axes>"
            ]
          },
          "metadata": {}
        },
        {
          "output_type": "display_data",
          "data": {
            "image/png": "[encoded data removed]",
            "text/plain": [
              "<Figure size 432x216 with 2 Axes>"
            ]
          },
          "metadata": {
            "needs_background": "light"
          }
        },
        {
          "output_type": "display_data",
          "data": {
            "text/plain": [
              "<Figure size 432x288 with 0 Axes>"
            ]
          },
          "metadata": {}
        },
        {
          "output_type": "display_data",
          "data": {
            "image/png": "[encoded data removed]",
            "text/plain": [
              "<Figure size 432x216 with 2 Axes>"
            ]
          },
          "metadata": {
            "needs_background": "light"
          }
        },
        {
          "output_type": "display_data",
          "data": {
            "text/plain": [
              "<Figure size 432x288 with 0 Axes>"
            ]
          },
          "metadata": {}
        }
      ]
    },
    {
      "cell_type": "markdown",
      "metadata": {
        "id": "OTM8VShapIqM"
      },
      "source": [
        "Las líneas negras representan la probabilidad más alta y por tanto, la predicción. Las verdes, el porcentaje de ocasiones en que se equivoca y con que prendas se confunde. Cuando la línea es roja, es porque ha errado la predicción.  \n",
        "Con esta red la predicción comete errores sobre todo en las prendas que no son pantalones, concretamente las zapatillas que predice un 95% que son mochilas. Tampoco predice correctamente las camisas. Con respecto a la sexta imagen predice al 100% que es 1, es decir, pantalones."
      ]
    },
    {
      "cell_type": "markdown",
      "metadata": {
        "id": "JFhkzVzxqe2z"
      },
      "source": [
        "### Caso 2"
      ]
    },
    {
      "cell_type": "code",
      "metadata": {
        "colab": {
          "base_uri": "https://localhost:8080/"
        },
        "id": "9GhIe4SqqbLI",
        "outputId": "edcbd0c3-4cad-4000-cc25-29b1f40de727"
      },
      "source": [
        "predictions = red2.predict(test_images)\n",
        "print(np.argmax(predictions[5]))\n",
        "print(predictions[5])\n",
        "np.sum(predictions[5])\n",
        "print(predictions)"
      ],
      "execution_count": null,
      "outputs": [
        {
          "output_type": "stream",
          "name": "stdout",
          "text": [
            "1\n",
            "[0. 1. 0. 0. 0. 0. 0. 0. 0. 0.]\n",
            "[[0. 0. 0. ... 0. 0. 1.]\n",
            " [0. 0. 1. ... 0. 0. 0.]\n",
            " [0. 1. 0. ... 0. 0. 0.]\n",
            " ...\n",
            " [0. 0. 0. ... 0. 1. 0.]\n",
            " [0. 1. 0. ... 0. 0. 0.]\n",
            " [0. 0. 0. ... 0. 0. 0.]]\n"
          ]
        }
      ]
    },
    {
      "cell_type": "code",
      "metadata": {
        "colab": {
          "base_uri": "https://localhost:8080/",
          "height": 1000
        },
        "id": "tIOG0DhwqbLO",
        "outputId": "3886a5ca-8900-4007-c710-17ba097f7ba1"
      },
      "source": [
        "(train_images, train_labels), (test_images, test_labels) = fashion_mnist.load_data()\n",
        "\n",
        "\n",
        "predictions = red2.predict(test_images)\n",
        "for i in range(14):\n",
        "  plt.figure(figsize=(6,3))\n",
        "  plt.subplot(1,2,1)\n",
        "  plot_image(i, predictions[i], test_labels, test_images.reshape(10000,28,28))\n",
        "  plt.subplot(1,2,2)\n",
        "  plot_value_array(i, predictions[i],  test_labels)\n",
        "  plt.show()\n",
        "  plt.clf()"
      ],
      "execution_count": null,
      "outputs": [
        {
          "output_type": "display_data",
          "data": {
            "image/png": "[encoded data removed]",
            "text/plain": [
              "<Figure size 432x216 with 2 Axes>"
            ]
          },
          "metadata": {
            "needs_background": "light"
          }
        },
        {
          "output_type": "display_data",
          "data": {
            "text/plain": [
              "<Figure size 432x288 with 0 Axes>"
            ]
          },
          "metadata": {}
        },
        {
          "output_type": "display_data",
          "data": {
            "image/png": "[encoded data removed]",
            "text/plain": [
              "<Figure size 432x216 with 2 Axes>"
            ]
          },
          "metadata": {
            "needs_background": "light"
          }
        },
        {
          "output_type": "display_data",
          "data": {
            "text/plain": [
              "<Figure size 432x288 with 0 Axes>"
            ]
          },
          "metadata": {}
        },
        {
          "output_type": "display_data",
          "data": {
            "image/png": "[encoded data removed]",
            "text/plain": [
              "<Figure size 432x216 with 2 Axes>"
            ]
          },
          "metadata": {
            "needs_background": "light"
          }
        },
        {
          "output_type": "display_data",
          "data": {
            "text/plain": [
              "<Figure size 432x288 with 0 Axes>"
            ]
          },
          "metadata": {}
        },
        {
          "output_type": "display_data",
          "data": {
            "image/png": "[encoded data removed]",
            "text/plain": [
              "<Figure size 432x216 with 2 Axes>"
            ]
          },
          "metadata": {
            "needs_background": "light"
          }
        },
        {
          "output_type": "display_data",
          "data": {
            "text/plain": [
              "<Figure size 432x288 with 0 Axes>"
            ]
          },
          "metadata": {}
        },
        {
          "output_type": "display_data",
          "data": {
            "image/png": "[encoded data removed]",
            "text/plain": [
              "<Figure size 432x216 with 2 Axes>"
            ]
          },
          "metadata": {
            "needs_background": "light"
          }
        },
        {
          "output_type": "display_data",
          "data": {
            "text/plain": [
              "<Figure size 432x288 with 0 Axes>"
            ]
          },
          "metadata": {}
        },
        {
          "output_type": "display_data",
          "data": {
            "image/png": "[encoded data removed]",
            "text/plain": [
              "<Figure size 432x216 with 2 Axes>"
            ]
          },
          "metadata": {
            "needs_background": "light"
          }
        },
        {
          "output_type": "display_data",
          "data": {
            "text/plain": [
              "<Figure size 432x288 with 0 Axes>"
            ]
          },
          "metadata": {}
        },
        {
          "output_type": "display_data",
          "data": {
            "image/png": "[encoded data removed]",
            "text/plain": [
              "<Figure size 432x216 with 2 Axes>"
            ]
          },
          "metadata": {
            "needs_background": "light"
          }
        },
        {
          "output_type": "display_data",
          "data": {
            "text/plain": [
              "<Figure size 432x288 with 0 Axes>"
            ]
          },
          "metadata": {}
        },
        {
          "output_type": "display_data",
          "data": {
            "image/png": "[encoded data removed]",
            "text/plain": [
              "<Figure size 432x216 with 2 Axes>"
            ]
          },
          "metadata": {
            "needs_background": "light"
          }
        },
        {
          "output_type": "display_data",
          "data": {
            "text/plain": [
              "<Figure size 432x288 with 0 Axes>"
            ]
          },
          "metadata": {}
        },
        {
          "output_type": "display_data",
          "data": {
            "image/png": "[encoded data removed]",
            "text/plain": [
              "<Figure size 432x216 with 2 Axes>"
            ]
          },
          "metadata": {
            "needs_background": "light"
          }
        },
        {
          "output_type": "display_data",
          "data": {
            "text/plain": [
              "<Figure size 432x288 with 0 Axes>"
            ]
          },
          "metadata": {}
        },
        {
          "output_type": "display_data",
          "data": {
            "image/png": "[encoded data removed]",
            "text/plain": [
              "<Figure size 432x216 with 2 Axes>"
            ]
          },
          "metadata": {
            "needs_background": "light"
          }
        },
        {
          "output_type": "display_data",
          "data": {
            "text/plain": [
              "<Figure size 432x288 with 0 Axes>"
            ]
          },
          "metadata": {}
        },
        {
          "output_type": "display_data",
          "data": {
            "image/png": "[encoded data removed]",
            "text/plain": [
              "<Figure size 432x216 with 2 Axes>"
            ]
          },
          "metadata": {
            "needs_background": "light"
          }
        },
        {
          "output_type": "display_data",
          "data": {
            "text/plain": [
              "<Figure size 432x288 with 0 Axes>"
            ]
          },
          "metadata": {}
        },
        {
          "output_type": "display_data",
          "data": {
            "image/png": "[encoded data removed]",
            "text/plain": [
              "<Figure size 432x216 with 2 Axes>"
            ]
          },
          "metadata": {
            "needs_background": "light"
          }
        },
        {
          "output_type": "display_data",
          "data": {
            "text/plain": [
              "<Figure size 432x288 with 0 Axes>"
            ]
          },
          "metadata": {}
        },
        {
          "output_type": "display_data",
          "data": {
            "image/png": "[encoded data removed]",
            "text/plain": [
              "<Figure size 432x216 with 2 Axes>"
            ]
          },
          "metadata": {
            "needs_background": "light"
          }
        },
        {
          "output_type": "display_data",
          "data": {
            "text/plain": [
              "<Figure size 432x288 with 0 Axes>"
            ]
          },
          "metadata": {}
        },
        {
          "output_type": "display_data",
          "data": {
            "image/png": "[encoded data removed]",
            "text/plain": [
              "<Figure size 432x216 with 2 Axes>"
            ]
          },
          "metadata": {
            "needs_background": "light"
          }
        },
        {
          "output_type": "display_data",
          "data": {
            "text/plain": [
              "<Figure size 432x288 with 0 Axes>"
            ]
          },
          "metadata": {}
        }
      ]
    },
    {
      "cell_type": "markdown",
      "metadata": {
        "id": "lcD0aPPzqbLR"
      },
      "source": [
        "Con esta red la predicción es del 100% de la sexta imagen. En el resto de casos predice de forma totalmente correcta casi todas las imagenes, menos una camisa, unas chanclas y unas zapatillas, en donde el error es del 100%.\n",
        "### Caso 3"
      ]
    },
    {
      "cell_type": "code",
      "metadata": {
        "colab": {
          "base_uri": "https://localhost:8080/"
        },
        "id": "7so6eeUrqv4S",
        "outputId": "cc36dbac-f636-42c6-9c0b-7de9edff5594"
      },
      "source": [
        "predictions = red3.predict(test_images)\n",
        "print(np.argmax(predictions[5]))\n",
        "print(predictions[5])\n",
        "np.sum(predictions[5])\n",
        "print(predictions)"
      ],
      "execution_count": null,
      "outputs": [
        {
          "output_type": "stream",
          "name": "stdout",
          "text": [
            "1\n",
            "[0. 1. 0. 0. 0. 0. 0. 0. 0. 0.]\n",
            "[[0.0000000e+00 0.0000000e+00 0.0000000e+00 ... 0.0000000e+00\n",
            "  0.0000000e+00 1.0000000e+00]\n",
            " [0.0000000e+00 0.0000000e+00 1.0000000e+00 ... 0.0000000e+00\n",
            "  0.0000000e+00 0.0000000e+00]\n",
            " [0.0000000e+00 1.0000000e+00 0.0000000e+00 ... 0.0000000e+00\n",
            "  0.0000000e+00 0.0000000e+00]\n",
            " ...\n",
            " [0.0000000e+00 0.0000000e+00 0.0000000e+00 ... 0.0000000e+00\n",
            "  1.0000000e+00 0.0000000e+00]\n",
            " [0.0000000e+00 1.0000000e+00 0.0000000e+00 ... 0.0000000e+00\n",
            "  0.0000000e+00 0.0000000e+00]\n",
            " [0.0000000e+00 0.0000000e+00 0.0000000e+00 ... 1.3934868e-23\n",
            "  9.9069691e-01 0.0000000e+00]]\n"
          ]
        }
      ]
    },
    {
      "cell_type": "code",
      "metadata": {
        "colab": {
          "base_uri": "https://localhost:8080/",
          "height": 1000
        },
        "id": "QXOQUjRqqv4V",
        "outputId": "9f6293ae-9eb8-4bb3-ba26-ea2da5948968"
      },
      "source": [
        "(train_images, train_labels), (test_images, test_labels) = fashion_mnist.load_data()\n",
        "\n",
        "\n",
        "predictions = red3.predict(test_images)\n",
        "for i in range(14):\n",
        "  plt.figure(figsize=(6,3))\n",
        "  plt.subplot(1,2,1)\n",
        "  plot_image(i, predictions[i], test_labels, test_images.reshape(10000,28,28))\n",
        "  plt.subplot(1,2,2)\n",
        "  plot_value_array(i, predictions[i],  test_labels)\n",
        "  plt.show()\n",
        "  plt.clf()"
      ],
      "execution_count": null,
      "outputs": [
        {
          "output_type": "display_data",
          "data": {
            "image/png": "[encoded data removed]",
            "text/plain": [
              "<Figure size 432x216 with 2 Axes>"
            ]
          },
          "metadata": {
            "needs_background": "light"
          }
        },
        {
          "output_type": "display_data",
          "data": {
            "text/plain": [
              "<Figure size 432x288 with 0 Axes>"
            ]
          },
          "metadata": {}
        },
        {
          "output_type": "display_data",
          "data": {
            "image/png": "[encoded data removed]",
            "text/plain": [
              "<Figure size 432x216 with 2 Axes>"
            ]
          },
          "metadata": {
            "needs_background": "light"
          }
        },
        {
          "output_type": "display_data",
          "data": {
            "text/plain": [
              "<Figure size 432x288 with 0 Axes>"
            ]
          },
          "metadata": {}
        },
        {
          "output_type": "display_data",
          "data": {
            "image/png": "[encoded data removed]",
            "text/plain": [
              "<Figure size 432x216 with 2 Axes>"
            ]
          },
          "metadata": {
            "needs_background": "light"
          }
        },
        {
          "output_type": "display_data",
          "data": {
            "text/plain": [
              "<Figure size 432x288 with 0 Axes>"
            ]
          },
          "metadata": {}
        },
        {
          "output_type": "display_data",
          "data": {
            "image/png": "[encoded data removed]",
            "text/plain": [
              "<Figure size 432x216 with 2 Axes>"
            ]
          },
          "metadata": {
            "needs_background": "light"
          }
        },
        {
          "output_type": "display_data",
          "data": {
            "text/plain": [
              "<Figure size 432x288 with 0 Axes>"
            ]
          },
          "metadata": {}
        },
        {
          "output_type": "display_data",
          "data": {
            "image/png": "[encoded data removed]",
            "text/plain": [
              "<Figure size 432x216 with 2 Axes>"
            ]
          },
          "metadata": {
            "needs_background": "light"
          }
        },
        {
          "output_type": "display_data",
          "data": {
            "text/plain": [
              "<Figure size 432x288 with 0 Axes>"
            ]
          },
          "metadata": {}
        },
        {
          "output_type": "display_data",
          "data": {
            "image/png": "[encoded data removed]",
            "text/plain": [
              "<Figure size 432x216 with 2 Axes>"
            ]
          },
          "metadata": {
            "needs_background": "light"
          }
        },
        {
          "output_type": "display_data",
          "data": {
            "text/plain": [
              "<Figure size 432x288 with 0 Axes>"
            ]
          },
          "metadata": {}
        },
        {
          "output_type": "display_data",
          "data": {
            "image/png": "[encoded data removed]",
            "text/plain": [
              "<Figure size 432x216 with 2 Axes>"
            ]
          },
          "metadata": {
            "needs_background": "light"
          }
        },
        {
          "output_type": "display_data",
          "data": {
            "text/plain": [
              "<Figure size 432x288 with 0 Axes>"
            ]
          },
          "metadata": {}
        },
        {
          "output_type": "display_data",
          "data": {
            "image/png": "[encoded data removed]",
            "text/plain": [
              "<Figure size 432x216 with 2 Axes>"
            ]
          },
          "metadata": {
            "needs_background": "light"
          }
        },
        {
          "output_type": "display_data",
          "data": {
            "text/plain": [
              "<Figure size 432x288 with 0 Axes>"
            ]
          },
          "metadata": {}
        },
        {
          "output_type": "display_data",
          "data": {
            "image/png": "[encoded data removed]",
            "text/plain": [
              "<Figure size 432x216 with 2 Axes>"
            ]
          },
          "metadata": {
            "needs_background": "light"
          }
        },
        {
          "output_type": "display_data",
          "data": {
            "text/plain": [
              "<Figure size 432x288 with 0 Axes>"
            ]
          },
          "metadata": {}
        },
        {
          "output_type": "display_data",
          "data": {
            "image/png": "[encoded data removed]",
            "text/plain": [
              "<Figure size 432x216 with 2 Axes>"
            ]
          },
          "metadata": {
            "needs_background": "light"
          }
        },
        {
          "output_type": "display_data",
          "data": {
            "text/plain": [
              "<Figure size 432x288 with 0 Axes>"
            ]
          },
          "metadata": {}
        },
        {
          "output_type": "display_data",
          "data": {
            "image/png": "[encoded data removed]",
            "text/plain": [
              "<Figure size 432x216 with 2 Axes>"
            ]
          },
          "metadata": {
            "needs_background": "light"
          }
        },
        {
          "output_type": "display_data",
          "data": {
            "text/plain": [
              "<Figure size 432x288 with 0 Axes>"
            ]
          },
          "metadata": {}
        },
        {
          "output_type": "display_data",
          "data": {
            "image/png": "[encoded data removed]",
            "text/plain": [
              "<Figure size 432x216 with 2 Axes>"
            ]
          },
          "metadata": {
            "needs_background": "light"
          }
        },
        {
          "output_type": "display_data",
          "data": {
            "text/plain": [
              "<Figure size 432x288 with 0 Axes>"
            ]
          },
          "metadata": {}
        },
        {
          "output_type": "display_data",
          "data": {
            "image/png": "[encoded data removed]",
            "text/plain": [
              "<Figure size 432x216 with 2 Axes>"
            ]
          },
          "metadata": {
            "needs_background": "light"
          }
        },
        {
          "output_type": "display_data",
          "data": {
            "text/plain": [
              "<Figure size 432x288 with 0 Axes>"
            ]
          },
          "metadata": {}
        },
        {
          "output_type": "display_data",
          "data": {
            "image/png": "[encoded data removed]",
            "text/plain": [
              "<Figure size 432x216 with 2 Axes>"
            ]
          },
          "metadata": {
            "needs_background": "light"
          }
        },
        {
          "output_type": "display_data",
          "data": {
            "text/plain": [
              "<Figure size 432x288 with 0 Axes>"
            ]
          },
          "metadata": {}
        }
      ]
    },
    {
      "cell_type": "markdown",
      "metadata": {
        "id": "DBCcVvIeqv4Y"
      },
      "source": [
        "Con esta red la predicción de la sexta figura sigue siendo del 100%. Con respecto al resto de imágenes, las predice todas al 100%, excepto las zapatillas, la decimotercera imagen.  \n",
        "Como conclusión, pensamos que el modelo del caso 3 es el mejor, puesto que solo predice erróneamente una imagen. Mientras que el resto las predice correctamente al 100%. Coincidiendo así, con lo visto anteriormente."
      ]
    },
    {
      "cell_type": "markdown",
      "metadata": {
        "id": "fGJXDzzRInKV"
      },
      "source": [
        "## 8. COMPARACIÓN DE LOS RESULTADOS DE LA PRÁCTICA 1 CON LAS CAPAS DENSE\n",
        "En la práctica anterior con las capas dense, el mejor modelo tenía une precisión del 87% y una pérdida del 34%. Mientras que con las capas convolucionales, la mejor red tiene un 90% de precisión y un 25% de pérdida. De esto concluimos, que el modelo con capas convolucionales es mejor.  \n",
        "Respecto a las predicciones, en general las redes convolucionales nos dan mejores resultados, ya que las predicciones son del 100% en la mayoría de casos. Por otro lado, las predicciones que realizan erroneamente lo hacen con un 100% de fallo, sin embargo, las de la primera práctica lo hacían con menos porcentaje de error. Creemos que esto se debe a que las redes convolucionales obtienen información más detallada de los datos de entrenamiento, y en ocasiones demasiado específica. Por este motivo, cuando la predicción es correcta, lo es al 100% y cuando es incorrecta, también lo es al 100%.  \n",
        "También nos hemos dado cuenta, de que el tiempo de ejecución del entrenamiento de las redes ha aumentado para las de la segunda práctica.  \n",
        "Por último, en ambas prácticas los modelos con el optimizador *adam* funcionan mejor. \n"
      ]
    },
    {
      "cell_type": "markdown",
      "metadata": {
        "id": "PNct-YwhI1Yq"
      },
      "source": [
        "## 9. CONCEPTOS DE BATCH_NORMALIZATION Y DROPOUT\n",
        "*batch_normalization:*  \n",
        "Aplica una transformación que mantiene la media de salida cercana a 0 y la desviación estándar de salida cercana a 1.\n",
        "Normalizando los datos, las distancias de los datos van de 0 a 1 y esto ayuda a la red neuronal a trabajar mejor y a tener menos problemas.\n",
        "Cuando normalizamos los datos solo la capa de entrada se beneficia de esto, conforme los datos pasan por otras capas ocultas, esta normalización se va perdiendo, y si tenemos una red neuronal con muchas capas podemos tener problemas con el entrenamiento. El método de batch_normalization normaliza los datos antes de que pasen por la función de activación en cada capa que de la red neuronal, de esta manera siempre tendremos los datos normalizados.\n",
        "Si normalizamos los datos las distribuciones estarán más cerca y será más fácil para la red neuronal crear una línea de decisión.\n",
        "Hay que tener en cuenta que trabaja de forma distinta durante el entrenamiento y con los datos de test.\n",
        "\n",
        "*Dropout:*  \n",
        "Este método ayuda a reducir el overfitting, ya que las neuronas cercanas suelen aprender patrones que se relacionan. Estas relaciones pueden llegar a formar un patrón muy específico con los datos de entrenamiento. Con dropout esta dependencia entre neuronas es menor en toda la red neuronal, de esta manera las neuronas trabajan mejor de forma solitaria y no dependen tanto de las relaciones con las neuronas vecinas.\n",
        "Dropout tiene un parámetro que indica la probabilidad de que las neuronas se queden activadas. Este parámetro toma valores de 0 a 1. Si los valores son cercanos a 0, dropout desactivará menos neuronas, si es cercano a 1, desactivará muchas más neuronas. Dropout solo se usa durante la fase de entrenamiento."
      ]
    },
    {
      "cell_type": "markdown",
      "metadata": {
        "id": "x5VF4XDrJfZq"
      },
      "source": [
        "## 10. CONCEPTOS DE CALLBACKS\n",
        "Un *callback* puede realizar acciones en distintas etapas del entrenamiento, al inicio o al final de una época, antes o después de un lote, etcetera. Son utiles para guardar periódicamente un modelo en el disco, para hacer una parada anticipada o para obtener una visión de los estados internos y las estadísticas de un modelo durante el entrenamiento, por ejemplo.\n",
        "\n",
        "También son útiles para escribir los logs de TensorBoard después de cada lote de entrenamiento para monitorizar tus métricas. TensorBoard permite visualizar las métricas  durante el entrenamiento tanto en el conjunto de entrenamiento como en el conjunto de validación, como en el de prueba.\n",
        "\n",
        "En nuestro modelo estamos utilizando los *callbacks* monitorizando la precisión y la función de perdida. Nos ha ayudado para evitar el *overfitting* y saber el número adecuado de épocas a realizar."
      ]
    },
    {
      "cell_type": "markdown",
      "metadata": {
        "id": "4faik4XGiKpx"
      },
      "source": [
        "## 11.CONCLUSIÓN\n",
        "Realizando la práctica hemos aprendido a crear modelos con redes convolucionales, y que estos aunque tarden más en ejecutarse, funcionan mejor que las redes con capas dense. También hemos aprendido que el optimizador *adam* suele funcionar mejor en la mayoría de modelos.  Además, sabemos como graficar el comportamiento de los modelos y saber el número adecuado de iteraciones para evitar sobreentrenamiento. Por último nos gustaría destacar, que una red con capas convolucionales necesita capas dense para que funcione con mejores resultados.  \n",
        "Para realizar este proyecto nos hemos reunido, tanto presencial como virtualmente, y en general, hemos hecho el trabajo conjuntamente, salvo algunas investigaciones sobre algunos conceptos como *dropout*, *callbacks*, etc, que hemos hecho individualmente. \n"
      ]
    },
    {
      "cell_type": "markdown",
      "metadata": {
        "id": "UJ1J50Th1zBI"
      },
      "source": [
        "## 12. BIBLIOGRAFÍA\n",
        "\n",
        "*   Team, K. (s. f.). Keras documentation: Callbacks API. Keras. Recuperado 26 de noviembre de 2021, de https://keras.io/api/callbacks/\n",
        "*   tf.keras.callbacks.LearningRateScheduler | TensorFlow Core v2.7.0. (s. f.). TensorFlow. Recuperado 26 de noviembre de 2021, de https://www.tensorflow.org/api_docs/python/tf/keras/callbacks/LearningRateScheduler\n",
        "*   Team, K. (s. f.-b). Keras documentation: Dropout layer. Keras. Recuperado 26 de noviembre de 2021, de https://keras.io/api/layers/regularization_layers/dropout/\n",
        "*   Team, K. (s. f.-a). Keras documentation: BatchNormalization layer. Keras. Recuperado 26 de noviembre de 2021, de https://keras.io/api/layers/normalization_layers/batch_normalization/\n",
        "\n",
        "\n",
        "\n",
        "\n"
      ]
    }
  ]
}